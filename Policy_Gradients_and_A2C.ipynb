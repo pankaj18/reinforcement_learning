{
  "nbformat": 4,
  "nbformat_minor": 0,
  "metadata": {
    "colab": {
      "name": "Policy Gradients and A2C.ipynb",
      "provenance": [],
      "authorship_tag": "ABX9TyOURwdzeh3gBFw3QaonAWgU",
      "include_colab_link": true
    },
    "kernelspec": {
      "name": "python3",
      "display_name": "Python 3"
    }
  },
  "cells": [
    {
      "cell_type": "markdown",
      "metadata": {
        "id": "view-in-github",
        "colab_type": "text"
      },
      "source": [
        "<a href=\"https://colab.research.google.com/github/pankaj18/reinforcement_learning/blob/master/Policy_Gradients_and_A2C.ipynb\" target=\"_parent\"><img src=\"https://colab.research.google.com/assets/colab-badge.svg\" alt=\"Open In Colab\"/></a>"
      ]
    },
    {
      "cell_type": "code",
      "metadata": {
        "id": "_lys2aldDAxO",
        "colab_type": "code",
        "colab": {
          "base_uri": "https://localhost:8080/",
          "height": 782
        },
        "outputId": "1a5bb9d9-1dee-4fe4-8f96-b20273a79556"
      },
      "source": [
        "!pip install gym\n",
        "!apt-get install python-opengl -y\n",
        "!apt install xvfb -y"
      ],
      "execution_count": 1,
      "outputs": [
        {
          "output_type": "stream",
          "text": [
            "Requirement already satisfied: gym in /usr/local/lib/python3.6/dist-packages (0.17.2)\n",
            "Requirement already satisfied: numpy>=1.10.4 in /usr/local/lib/python3.6/dist-packages (from gym) (1.18.5)\n",
            "Requirement already satisfied: cloudpickle<1.4.0,>=1.2.0 in /usr/local/lib/python3.6/dist-packages (from gym) (1.3.0)\n",
            "Requirement already satisfied: pyglet<=1.5.0,>=1.4.0 in /usr/local/lib/python3.6/dist-packages (from gym) (1.5.0)\n",
            "Requirement already satisfied: scipy in /usr/local/lib/python3.6/dist-packages (from gym) (1.4.1)\n",
            "Requirement already satisfied: future in /usr/local/lib/python3.6/dist-packages (from pyglet<=1.5.0,>=1.4.0->gym) (0.16.0)\n",
            "Reading package lists... Done\n",
            "Building dependency tree       \n",
            "Reading state information... Done\n",
            "The following package was automatically installed and is no longer required:\n",
            "  libnvidia-common-440\n",
            "Use 'apt autoremove' to remove it.\n",
            "Suggested packages:\n",
            "  libgle3\n",
            "The following NEW packages will be installed:\n",
            "  python-opengl\n",
            "0 upgraded, 1 newly installed, 0 to remove and 33 not upgraded.\n",
            "Need to get 496 kB of archives.\n",
            "After this operation, 5,416 kB of additional disk space will be used.\n",
            "Get:1 http://archive.ubuntu.com/ubuntu bionic/universe amd64 python-opengl all 3.1.0+dfsg-1 [496 kB]\n",
            "Fetched 496 kB in 1s (644 kB/s)\n",
            "Selecting previously unselected package python-opengl.\n",
            "(Reading database ... 144379 files and directories currently installed.)\n",
            "Preparing to unpack .../python-opengl_3.1.0+dfsg-1_all.deb ...\n",
            "Unpacking python-opengl (3.1.0+dfsg-1) ...\n",
            "Setting up python-opengl (3.1.0+dfsg-1) ...\n",
            "Reading package lists... Done\n",
            "Building dependency tree       \n",
            "Reading state information... Done\n",
            "The following package was automatically installed and is no longer required:\n",
            "  libnvidia-common-440\n",
            "Use 'apt autoremove' to remove it.\n",
            "The following NEW packages will be installed:\n",
            "  xvfb\n",
            "0 upgraded, 1 newly installed, 0 to remove and 33 not upgraded.\n",
            "Need to get 784 kB of archives.\n",
            "After this operation, 2,266 kB of additional disk space will be used.\n",
            "Get:1 http://archive.ubuntu.com/ubuntu bionic-updates/universe amd64 xvfb amd64 2:1.19.6-1ubuntu4.4 [784 kB]\n",
            "Fetched 784 kB in 1s (1,088 kB/s)\n",
            "Selecting previously unselected package xvfb.\n",
            "(Reading database ... 146734 files and directories currently installed.)\n",
            "Preparing to unpack .../xvfb_2%3a1.19.6-1ubuntu4.4_amd64.deb ...\n",
            "Unpacking xvfb (2:1.19.6-1ubuntu4.4) ...\n",
            "Setting up xvfb (2:1.19.6-1ubuntu4.4) ...\n",
            "Processing triggers for man-db (2.8.3-2ubuntu0.1) ...\n"
          ],
          "name": "stdout"
        }
      ]
    },
    {
      "cell_type": "code",
      "metadata": {
        "id": "XaVfGmM3DMNE",
        "colab_type": "code",
        "colab": {}
      },
      "source": [
        "import gym\n",
        "import numpy as np\n",
        "import tensorflow as tf\n",
        "from tensorflow.keras import layers, models\n",
        "from tensorflow.keras import backend as K\n",
        "\n",
        "CLIP_EDGE = 1e-8\n",
        "\n",
        "def print_state(state, step, reward=None):\n",
        "    format_string = 'Step {0} - Cart X: {1:.3f}, Cart V: {2:.3f}, Pole A: {3:.3f}, Pole V:{4:.3f}, Reward:{5}'\n",
        "    print(format_string.format(step, *tuple(state), reward))\n",
        "    \n",
        "env = gym.make('CartPole-v0')"
      ],
      "execution_count": 2,
      "outputs": []
    },
    {
      "cell_type": "markdown",
      "metadata": {
        "id": "SQEEpV_jESf-",
        "colab_type": "text"
      },
      "source": [
        "## The Theory Behind Policy Gradients\n",
        "\n",
        "Whereas Q-learning attempts to assign each state a value, Policy Gradients tries to find actions directly, increasing or decreaing a chance to take an action depending on how an episode plays out.\n",
        "\n",
        "To compare, Q-learning has a table that keeps track of the value of each combination of state and action:\n",
        "\n",
        "|| Meal | Snack | Wait |\n",
        "|-|-|-|-|\n",
        "| Hangry | 1 | .5 | -1 |\n",
        "| Hungry | .5 | 1 | 0 |\n",
        "| Full | -1 | -.5 | 1.5 |\n",
        "\n",
        "Instead for Policy Gradients, we can imagine that we have a similar table, but instead of recording the values, we'll keep track of the probability to take the column action given the row state.\n",
        "\n",
        "|| Meal | Snack | Wait |\n",
        "|-|-|-|-|\n",
        "| Hangry | 70% | 20% | 10% |\n",
        "| Hungry | 30% | 50% | 20% |\n",
        "| Full | 5% | 15% | 80% |\n",
        "\n",
        "With Q learning, whenever we take one step in our environment, we can update the value of the old state based on the value of the new state plus any rewards we picked up based on the [Q equation](https://en.wikipedia.org/wiki/Q-learning):\n",
        "\n",
        "<img style=\"background-color:white;\" src=\"https://wikimedia.org/api/rest_v1/media/math/render/svg/47fa1e5cf8cf75996a777c11c7b9445dc96d4637\">\n",
        "\n",
        "Could we do the same thing if we have a table of probabilities instead values? No, because we don't have a way to calculate the value of each state from our table. Instead, we'll use a different <a href=\"http://incompleteideas.net/papers/sutton-88-with-erratum.pdf\"> Temporal Difference Learning</a> strategy.\n",
        "\n",
        "Q Learning is an evolution of TD(0), and for Policy Gradients, we'll use TD(1). We'll calculate TD(1) accross and entire episode, and use that to indicate whether to increase or decrease the probability correspoding to the action we took. Let's look at a full day of eating.\n",
        "\n",
        "| Hour | State | Action | Reward |\n",
        "|-|-|-|-|\n",
        "|9| Hangry | Wait | -.9 |\n",
        "|10| Hangry | Meal | 1.2 |\n",
        "|11| Full | Wait | .5 |\n",
        "|12| Full | Snack | -.6 |\n",
        "|13| Full | Wait | 1 |\n",
        "|14| Full | Wait | .6 |\n",
        "|15| Full | Wait | .2 |\n",
        "|16| Hungry | Wait | 0 |\n",
        "|17| Hungry | Meal | .4 |\n",
        "|18| Full | Wait| .5 |\n",
        "\n",
        "We'll work backwards from the last day, using the same discount, or `gamma`, as we did with DQNs. The `total_rewards` variable is equivalent to the value of state prime. Using the [Bellman Equation](https://en.wikipedia.org/wiki/Bellman_equation), everytime we calculate the value of a state, s<sub>t</sub>, we'll set that as the value of state prime for the state before, s<sub>t-1</sub>. "
      ]
    },
    {
      "cell_type": "code",
      "metadata": {
        "id": "I5g0TSDzDf5c",
        "colab_type": "code",
        "colab": {
          "base_uri": "https://localhost:8080/",
          "height": 51
        },
        "outputId": "c3713cd9-cc77-48da-9d03-94d7332e7a80"
      },
      "source": [
        "test_gamma = .6  # Please change me to be between zero and one\n",
        "episode_rewards = [-.9, 1.2, .5, -.6, 1, .6, .2, 0, .4, .5]\n",
        "\n",
        "def discount_episode(rewards, gamma):\n",
        "    discounted_rewards = np.zeros_like(rewards)\n",
        "    total_rewards = 0\n",
        "    for t in reversed(range(len(rewards))):\n",
        "        total_rewards = rewards[t] + total_rewards * gamma\n",
        "        discounted_rewards[t] = total_rewards\n",
        "    return discounted_rewards\n",
        "\n",
        "discount_episode(episode_rewards, test_gamma)"
      ],
      "execution_count": 4,
      "outputs": [
        {
          "output_type": "execute_result",
          "data": {
            "text/plain": [
              "array([0.06774451, 1.61290752, 0.6881792 , 0.313632  , 1.52272   ,\n",
              "       0.8712    , 0.452     , 0.42      , 0.7       , 0.5       ])"
            ]
          },
          "metadata": {
            "tags": []
          },
          "execution_count": 4
        }
      ]
    },
    {
      "cell_type": "markdown",
      "metadata": {
        "id": "Nj5GLqF7E-k6",
        "colab_type": "text"
      },
      "source": [
        "Wherever our discounted reward is positive, we'll increase the probability corresponding to the action we took. Similarly, wherever our discounted reward is negative, we'll decrease the probabilty.\n",
        "\n",
        "However, with this strategy, any actions with a positive reward will have it's probability increase, not necessarily the most optimal action. This puts us in a feedback loop, where we're more likely to pick less optimal actions which could further increase their probability. To counter this, we'll divide the size of our increases by the probability to choose the corresponding action, which will slow the growth of popular actions to give other actions a chance.\n",
        "\n",
        "Here is our update rule for our neural network, where alpha is our learning rate, and pi is our optimal policy, or the probability to take the optimal action, a<sup>*</sup>, given our current state, s. \n",
        "\n",
        "\n",
        "\n",
        "Doing some fancy calculus, we can combine the numerator and denominator with a log function. Since it's not clear what the optimal action is, we'll instead use our discounted rewards, or G, to increase or decrease the weights of the respective action the agent took. A full breakdown of the math can be found in [this article by Chris Yoon](https://medium.com/@thechrisyoon/deriving-policy-gradients-and-implementing-reinforce-f887949bd63).\n",
        "\n",
        "\n",
        "\n",
        "Below is what it looks like in code. `y_true` is the [one-hot encoding](https://en.wikipedia.org/wiki/One-hot) of the action that was taken. `y_pred` is the probabilty to take each action given the state the agent was in."
      ]
    },
    {
      "cell_type": "code",
      "metadata": {
        "id": "gSlTxPoUEdDK",
        "colab_type": "code",
        "colab": {}
      },
      "source": [
        "def custom_loss(y_true, y_pred):\n",
        "    y_pred_clipped = K.clip(y_pred, CLIP_EDGE, 1-CLIP_EDGE)\n",
        "    log_likelihood = y_true * K.log(y_pred_clipped)\n",
        "    return K.sum(-log_likelihood*g)"
      ],
      "execution_count": 5,
      "outputs": []
    },
    {
      "cell_type": "markdown",
      "metadata": {
        "id": "y7pio0GXFKy9",
        "colab_type": "text"
      },
      "source": [
        "We won't have the discounted rewards, or `g`, when our agent is acting in the environment. No problem, we'll have one neural network with two types of pathways. One pathway, `predict`, will be the probability to take an action given an inputed state. It's only used for prediction and is not used for backpropogation. The other pathway, `policy`, will take both a state and a discounted reward, so it can be used for training.\n",
        "\n",
        "The code in its entirety looks like this. As with Deep Q Networks, the hidden layers of a Policy Gradient can use a CNN if the input state is pixels, but the last layer is typically a [Dense](https://keras.io/layers/core/) layer with a [Softmax](https://en.wikipedia.org/wiki/Softmax_function) activation function to convert the output into probabilities."
      ]
    },
    {
      "cell_type": "code",
      "metadata": {
        "id": "bLgvwe6wFGd2",
        "colab_type": "code",
        "colab": {}
      },
      "source": [
        "def build_networks(\n",
        "        state_shape, action_size, learning_rate, hidden_neurons):\n",
        "    \"\"\"Creates a Policy Gradient Neural Network.\n",
        "\n",
        "    Creates a two hidden-layer Policy Gradient Neural Network. The loss\n",
        "    function is altered to be a log-likelihood function weighted\n",
        "    by the discounted reward, g.\n",
        "\n",
        "    Args:\n",
        "        space_shape: a tuple of ints representing the observation space.\n",
        "        action_size (int): the number of possible actions.\n",
        "        learning_rate (float): the nueral network's learning rate.\n",
        "        hidden_neurons (int): the number of neurons to use per hidden\n",
        "            layer.\n",
        "    \"\"\"\n",
        "    state_input = layers.Input(state_shape, name='frames')\n",
        "    g = layers.Input((1,), name='g')\n",
        "\n",
        "    hidden_1 = layers.Dense(hidden_neurons, activation='relu')(state_input)\n",
        "    hidden_2 = layers.Dense(hidden_neurons, activation='relu')(hidden_1)\n",
        "    probabilities = layers.Dense(action_size, activation='softmax')(hidden_2)\n",
        "\n",
        "    def custom_loss(y_true, y_pred):\n",
        "        y_pred_clipped = K.clip(y_pred, CLIP_EDGE, 1-CLIP_EDGE)\n",
        "        log_lik = y_true*K.log(y_pred_clipped)\n",
        "        return K.sum(-log_lik*g)\n",
        "\n",
        "    policy = models.Model(\n",
        "        inputs=[state_input, g], outputs=[probabilities])\n",
        "    optimizer = tf.keras.optimizers.Adam(lr=learning_rate)\n",
        "    policy.compile(loss=custom_loss, optimizer=optimizer)\n",
        "\n",
        "    predict = models.Model(inputs=[state_input], outputs=[probabilities])\n",
        "    return policy, predict"
      ],
      "execution_count": 6,
      "outputs": []
    },
    {
      "cell_type": "markdown",
      "metadata": {
        "id": "zHvaD8ZbFdFm",
        "colab_type": "text"
      },
      "source": [
        "Let's get a taste of how these networks function. Run the below cell to build our test networks."
      ]
    },
    {
      "cell_type": "code",
      "metadata": {
        "id": "IMRF5x2LFZdg",
        "colab_type": "code",
        "colab": {}
      },
      "source": [
        "space_shape = env.observation_space.shape\n",
        "action_size = env.action_space.n\n",
        "\n",
        "# Feel free to play with these\n",
        "test_learning_rate = .2\n",
        "test_hidden_neurons = 10\n",
        "\n",
        "test_policy, test_predict = build_networks(\n",
        "    space_shape, action_size, test_learning_rate, test_hidden_neurons)"
      ],
      "execution_count": 7,
      "outputs": []
    },
    {
      "cell_type": "markdown",
      "metadata": {
        "id": "hPB4QqwAFoCd",
        "colab_type": "text"
      },
      "source": [
        "We can't use the policy network until we build our learning function, but we can feed a state to the predict network so we can see our chances to pick our actions."
      ]
    },
    {
      "cell_type": "code",
      "metadata": {
        "id": "rZSjyF1NFiwN",
        "colab_type": "code",
        "colab": {
          "base_uri": "https://localhost:8080/",
          "height": 34
        },
        "outputId": "e1275e11-ad5c-40bc-867e-3857a49dcfe1"
      },
      "source": [
        "state = env.reset()\n",
        "test_predict.predict(np.expand_dims(state, axis=0))"
      ],
      "execution_count": 8,
      "outputs": [
        {
          "output_type": "execute_result",
          "data": {
            "text/plain": [
              "array([[0.5007338 , 0.49926627]], dtype=float32)"
            ]
          },
          "metadata": {
            "tags": []
          },
          "execution_count": 8
        }
      ]
    },
    {
      "cell_type": "markdown",
      "metadata": {
        "id": "vy-4ka8KF3BC",
        "colab_type": "text"
      },
      "source": [
        "Right now, the numbers should be close to `[.5, .5]`, with a little bit of variance due to the randomization of initializing the weights and the cart's starting position. In order to train, we'll need some memories to train on. The memory buffer here is simpler than DQN, as we don't have to worry about random sampling. We'll clear the buffer every time we train as we'll only hold one episode's worth of memory."
      ]
    },
    {
      "cell_type": "code",
      "metadata": {
        "id": "16PNopYcFsD0",
        "colab_type": "code",
        "colab": {}
      },
      "source": [
        "class Memory():\n",
        "    \"\"\"Sets up a memory replay buffer for Policy Gradient methods.\n",
        "\n",
        "    Args:\n",
        "        gamma (float): The \"discount rate\" used to assess TD(1) values.\n",
        "    \"\"\"\n",
        "    def __init__(self, gamma):\n",
        "        self.buffer = []\n",
        "        self.gamma = gamma\n",
        "\n",
        "    def add(self, experience):\n",
        "        \"\"\"Adds an experience into the memory buffer.\n",
        "\n",
        "        Args:\n",
        "            experience: a (state, action, reward) tuple.\n",
        "        \"\"\"\n",
        "        self.buffer.append(experience)\n",
        "\n",
        "    def sample(self):\n",
        "        \"\"\"Returns the list of episode experiences and clears the buffer.\n",
        "\n",
        "        Returns:\n",
        "            (list): A tuple of lists with structure (\n",
        "                [states], [actions], [rewards]\n",
        "            }\n",
        "        \"\"\"\n",
        "        batch = np.array(self.buffer).T.tolist()\n",
        "        states_mb = np.array(batch[0], dtype=np.float32)\n",
        "        actions_mb = np.array(batch[1], dtype=np.int8)\n",
        "        rewards_mb = np.array(batch[2], dtype=np.float32)\n",
        "        self.buffer = []\n",
        "        return states_mb, actions_mb, rewards_mb"
      ],
      "execution_count": 9,
      "outputs": []
    },
    {
      "cell_type": "markdown",
      "metadata": {
        "id": "Zyte122DF_vF",
        "colab_type": "text"
      },
      "source": [
        "Let's make a fake buffer to get a sense of the data we'll be training on. The cell below initializes our memory and runs through one episode of the game by alternating pushing the cart left and right.\n",
        "\n",
        "Try running it to see the data we'll be using for training."
      ]
    },
    {
      "cell_type": "code",
      "metadata": {
        "id": "QHunTUhWF77F",
        "colab_type": "code",
        "colab": {
          "base_uri": "https://localhost:8080/",
          "height": 1000
        },
        "outputId": "e90deeee-751f-480d-d4e3-5640cb12f8ee"
      },
      "source": [
        "test_memory = Memory(test_gamma)\n",
        "actions = [x % 2 for x in range(200)]\n",
        "state = env.reset()\n",
        "step = 0\n",
        "episode_reward = 0\n",
        "done = False\n",
        "\n",
        "while not done and step < len(actions):\n",
        "    action = actions[step]  # In the future, our agents will define this.\n",
        "    state_prime, reward, done, info = env.step(action)\n",
        "    episode_reward += reward\n",
        "    test_memory.add((state, action, reward))\n",
        "    step += 1\n",
        "    state = state_prime\n",
        "\n",
        "test_memory.sample()"
      ],
      "execution_count": 10,
      "outputs": [
        {
          "output_type": "execute_result",
          "data": {
            "text/plain": [
              "(array([[-1.38022956e-02,  4.12176214e-02,  1.68881528e-02,\n",
              "         -8.50941404e-04],\n",
              "        [-1.29779438e-02, -1.54142410e-01,  1.68711338e-02,\n",
              "          2.97112197e-01],\n",
              "        [-1.60607919e-02,  4.07350250e-02,  2.28133779e-02,\n",
              "          9.79752187e-03],\n",
              "        [-1.52460914e-02, -1.54706553e-01,  2.30093282e-02,\n",
              "          3.09590131e-01],\n",
              "        [-1.83402225e-02,  4.00801413e-02,  2.92011313e-02,\n",
              "          2.42516007e-02],\n",
              "        [-1.75386183e-02, -1.55448139e-01,  2.96861641e-02,\n",
              "          3.26002896e-01],\n",
              "        [-2.06475817e-02,  3.92388403e-02,  3.62062231e-02,\n",
              "          4.28275503e-02],\n",
              "        [-1.98628046e-02, -1.56383082e-01,  3.70627716e-02,\n",
              "          3.46710443e-01],\n",
              "        [-2.29904670e-02,  3.81926149e-02,  4.39969823e-02,\n",
              "          6.59412816e-02],\n",
              "        [-2.22266149e-02, -1.57531619e-01,  4.53158058e-02,\n",
              "          3.72174442e-01],\n",
              "        [-2.53772475e-02,  3.69182564e-02,  5.27592972e-02,\n",
              "          9.41173658e-02],\n",
              "        [-2.46388819e-02, -1.58918634e-01,  5.46416417e-02,\n",
              "          4.02967989e-01],\n",
              "        [-2.78172549e-02,  3.53874825e-02,  6.27010018e-02,\n",
              "          1.28000468e-01],\n",
              "        [-2.71095056e-02, -1.60574034e-01,  6.52610138e-02,\n",
              "          4.39787149e-01],\n",
              "        [-3.03209852e-02,  3.35665196e-02,  7.40567520e-02,\n",
              "          1.68369353e-01],\n",
              "        [-2.96496563e-02, -1.62533045e-01,  7.74241462e-02,\n",
              "          4.83465225e-01],\n",
              "        [-3.29003148e-02,  3.14157084e-02,  8.70934501e-02,\n",
              "          2.16153607e-01],\n",
              "        [-3.22720036e-02, -1.64836377e-01,  9.14165229e-02,\n",
              "          5.34989059e-01],\n",
              "        [-3.55687290e-02,  2.88891848e-02,  1.02116302e-01,\n",
              "          2.72453159e-01],\n",
              "        [-3.49909440e-02, -1.67530373e-01,  1.07565366e-01,\n",
              "          5.95517695e-01],\n",
              "        [-3.83415520e-02,  2.59347931e-02,  1.19475715e-01,\n",
              "          3.38560462e-01],\n",
              "        [-3.78228575e-02, -1.70666665e-01,  1.26246929e-01,\n",
              "          6.66402698e-01],\n",
              "        [-4.12361920e-02,  2.24943850e-02,  1.39574975e-01,\n",
              "          4.15985137e-01],\n",
              "        [-4.07863036e-02, -1.74301192e-01,  1.47894681e-01,\n",
              "          7.49209762e-01],\n",
              "        [-4.42723259e-02,  1.85048934e-02,  1.62878886e-01,\n",
              "          5.06480455e-01],\n",
              "        [-4.39022295e-02, -1.78492263e-01,  1.73008487e-01,\n",
              "          8.45740139e-01],\n",
              "        [-4.74720746e-02,  1.39006581e-02,  1.89923286e-01,\n",
              "          6.12070143e-01],\n",
              "        [-4.71940599e-02, -1.83296800e-01,  2.02164695e-01,\n",
              "          9.58049893e-01]], dtype=float32),\n",
              " array([0, 1, 0, 1, 0, 1, 0, 1, 0, 1, 0, 1, 0, 1, 0, 1, 0, 1, 0, 1, 0, 1,\n",
              "        0, 1, 0, 1, 0, 1], dtype=int8),\n",
              " array([1., 1., 1., 1., 1., 1., 1., 1., 1., 1., 1., 1., 1., 1., 1., 1., 1.,\n",
              "        1., 1., 1., 1., 1., 1., 1., 1., 1., 1., 1.], dtype=float32))"
            ]
          },
          "metadata": {
            "tags": []
          },
          "execution_count": 10
        }
      ]
    },
    {
      "cell_type": "markdown",
      "metadata": {
        "id": "wsPN00gpGgRX",
        "colab_type": "text"
      },
      "source": [
        "Ok, time to start putting together the agent! Let's start by giving it the ability to act. Here, we don't need to worry about exploration vs exploitation because we already have a random chance to take each of our actions. As the agent learns, it will naturally shift from exploration to exploitation. How conveient!"
      ]
    },
    {
      "cell_type": "code",
      "metadata": {
        "id": "IGH4_iacGXq8",
        "colab_type": "code",
        "colab": {}
      },
      "source": [
        "class Partial_Agent():\n",
        "    \"\"\"Sets up a reinforcement learning agent to play in a game environment.\"\"\"\n",
        "    def __init__(self, policy, predict, memory, action_size):\n",
        "        \"\"\"Initializes the agent with Policy Gradient networks\n",
        "            and memory sub-classes.\n",
        "\n",
        "        Args:\n",
        "            policy: The policy network created from build_networks().\n",
        "            predict: The predict network created from build_networks().\n",
        "            memory: A Memory class object.\n",
        "            action_size (int): The number of possible actions to take.\n",
        "        \"\"\"\n",
        "        self.policy = policy\n",
        "        self.predict = predict\n",
        "        self.action_size = action_size\n",
        "        self.memory = memory\n",
        "\n",
        "    def act(self, state):\n",
        "        \"\"\"Selects an action for the agent to take given a game state.\n",
        "\n",
        "        Args:\n",
        "            state (list of numbers): The state of the environment to act on.\n",
        "\n",
        "        Returns:\n",
        "            (int) The index of the action to take.\n",
        "        \"\"\"\n",
        "        # If not acting randomly, take action with highest predicted value.\n",
        "        state_batch = np.expand_dims(state, axis=0)\n",
        "        probabilities = self.predict.predict(state_batch)[0]\n",
        "        action = np.random.choice(self.action_size, p=probabilities)\n",
        "        return action"
      ],
      "execution_count": 11,
      "outputs": []
    },
    {
      "cell_type": "markdown",
      "metadata": {
        "id": "_ZL7J-XqGlio",
        "colab_type": "text"
      },
      "source": [
        "Let's see the act function in action. First, let's build our agent."
      ]
    },
    {
      "cell_type": "code",
      "metadata": {
        "id": "TYxhx0PvGk2t",
        "colab_type": "code",
        "colab": {}
      },
      "source": [
        "test_agent = Partial_Agent(test_policy, test_predict, test_memory, action_size)"
      ],
      "execution_count": 12,
      "outputs": []
    },
    {
      "cell_type": "markdown",
      "metadata": {
        "id": "RfIf3CZ9Gx-p",
        "colab_type": "text"
      },
      "source": [
        "Next, run the below cell a few times to test the `act` method. Is it about a 50/50 chance to push right instead of left?"
      ]
    },
    {
      "cell_type": "code",
      "metadata": {
        "id": "60vl2kBjGu1l",
        "colab_type": "code",
        "colab": {
          "base_uri": "https://localhost:8080/",
          "height": 34
        },
        "outputId": "3c918c85-3d35-440f-e161-3c7b3f2ebc8c"
      },
      "source": [
        "action = test_agent.act(state)\n",
        "print(\"Push Right\" if action else \"Push Left\")"
      ],
      "execution_count": 13,
      "outputs": [
        {
          "output_type": "stream",
          "text": [
            "Push Left\n"
          ],
          "name": "stdout"
        }
      ]
    },
    {
      "cell_type": "markdown",
      "metadata": {
        "id": "Eie_BWSZHAc_",
        "colab_type": "text"
      },
      "source": [
        "Now for the most important part. We need to give our agent a way to learn! To start, we'll [one-hot encode](https://en.wikipedia.org/wiki/One-hot) our actions. Since the output of our network is a probability for each action, we'll have a 1 corresponding to the action that was taken and 0's for the actions we didn't take.\n",
        "\n",
        "That doesn't give our agent enough information on whether the action that was taken was actually a good idea, so we'll also use our `discount_episode` to calculate the TD(1) value of each step within the episode. \n",
        "\n",
        "One thing to note, is that CartPole doesn't have any negative rewards, meaning, even if it does terribly, the agent will still think the run went well. To help counter this, we'll take the mean and standard deviation of our discounted rewards, or `discount_mb`, and use that to find the [Standard Score](https://en.wikipedia.org/wiki/Standard_score) for each discounted reward. With this, steps close to dropping the poll will have a negative reward."
      ]
    },
    {
      "cell_type": "code",
      "metadata": {
        "id": "xcZ5YQL3G1Qt",
        "colab_type": "code",
        "colab": {}
      },
      "source": [
        "def learn(self, print_variables=False):\n",
        "    \"\"\"Trains a Policy Gradient policy network based on stored experiences.\"\"\"\n",
        "    state_mb, action_mb, reward_mb = self.memory.sample()\n",
        "    # One hot enocde actions\n",
        "    actions = np.zeros([len(action_mb), self.action_size])\n",
        "    actions[np.arange(len(action_mb)), action_mb] = 1\n",
        "    if print_variables:\n",
        "        print(\"action_mb:\", action_mb)\n",
        "        print(\"actions:\", actions)\n",
        "\n",
        "    # Apply TD(1) and normalize\n",
        "    discount_mb = discount_episode(reward_mb, self.memory.gamma)\n",
        "    discount_mb = (discount_mb - np.mean(discount_mb)) / np.std(discount_mb)\n",
        "    if print_variables:\n",
        "        print(\"reward_mb:\", reward_mb)\n",
        "        print(\"discount_mb:\", discount_mb)\n",
        "    return self.policy.train_on_batch([state_mb, discount_mb], actions)\n",
        "\n",
        "Partial_Agent.learn = learn\n",
        "test_agent = Partial_Agent(test_policy, test_predict, test_memory, action_size)"
      ],
      "execution_count": 14,
      "outputs": []
    },
    {
      "cell_type": "markdown",
      "metadata": {
        "id": "tQxpY9S5HMbG",
        "colab_type": "text"
      },
      "source": [
        "Try adding in some print statements to the code above to get a sense of how the data is transformed before feeding it into the model, then run the below code to see it in action."
      ]
    },
    {
      "cell_type": "markdown",
      "metadata": {
        "id": "NjJQ66OIHRWE",
        "colab_type": "text"
      },
      "source": [
        "Finally, it's time to put it all together. Policy Gradient Networks have less hypertuning parameters than DQNs, but since our custom loss constructs a [TensorFlow Graph](https://www.tensorflow.org/api_docs/python/tf/Graph) under the hood, we'll set up lazy execution by wrapping our traing steps in a default graph.\n",
        "\n",
        "By changing `test_gamma`, `test_learning_rate`, and `test_hidden_neurons`, can you help the agent reach a score of 200 within 200 episodes? It takes a little bit of thinking and a little bit of luck.\n",
        "\n",
        "Hover the curser  <b title=\"gamma=.9, learning rate=0.002, neurons=50\">on this bold text</b> to see a solution to the challenge."
      ]
    },
    {
      "cell_type": "code",
      "metadata": {
        "id": "7PZLECDnHEyQ",
        "colab_type": "code",
        "colab": {
          "base_uri": "https://localhost:8080/",
          "height": 1000
        },
        "outputId": "8634d356-a062-4782-91d5-16a56d436a70"
      },
      "source": [
        "test_gamma = .5\n",
        "test_learning_rate = .01\n",
        "test_hidden_neurons = 100\n",
        "\n",
        "with tf.Graph().as_default():\n",
        "    test_memory = Memory(test_gamma)\n",
        "    test_policy, test_predict = build_networks(\n",
        "    space_shape, action_size, test_learning_rate, test_hidden_neurons)\n",
        "    test_agent = Partial_Agent(test_policy, test_predict, test_memory, action_size)\n",
        "    for episode in range(200):  \n",
        "        state = env.reset()\n",
        "        episode_reward = 0\n",
        "        done = False\n",
        "\n",
        "        while not done:\n",
        "            action = test_agent.act(state)\n",
        "            state_prime, reward, done, info = env.step(action)\n",
        "            episode_reward += reward\n",
        "            test_agent.memory.add((state, action, reward))\n",
        "            state = state_prime\n",
        "\n",
        "        test_agent.learn()\n",
        "        print(\"Episode\", episode, \"Score =\", episode_reward)"
      ],
      "execution_count": 15,
      "outputs": [
        {
          "output_type": "stream",
          "text": [
            "WARNING:tensorflow:From /usr/local/lib/python3.6/dist-packages/tensorflow/python/ops/resource_variable_ops.py:1666: calling BaseResourceVariable.__init__ (from tensorflow.python.ops.resource_variable_ops) with constraint is deprecated and will be removed in a future version.\n",
            "Instructions for updating:\n",
            "If using Keras pass *_constraint arguments to layers.\n",
            "Episode 0 Score = 24.0\n",
            "Episode 1 Score = 25.0\n",
            "Episode 2 Score = 11.0\n",
            "Episode 3 Score = 13.0\n",
            "Episode 4 Score = 9.0\n",
            "Episode 5 Score = 11.0\n",
            "Episode 6 Score = 16.0\n",
            "Episode 7 Score = 13.0\n",
            "Episode 8 Score = 10.0\n",
            "Episode 9 Score = 21.0\n",
            "Episode 10 Score = 10.0\n",
            "Episode 11 Score = 13.0\n",
            "Episode 12 Score = 13.0\n",
            "Episode 13 Score = 9.0\n",
            "Episode 14 Score = 14.0\n",
            "Episode 15 Score = 12.0\n",
            "Episode 16 Score = 24.0\n",
            "Episode 17 Score = 11.0\n",
            "Episode 18 Score = 12.0\n",
            "Episode 19 Score = 10.0\n",
            "Episode 20 Score = 9.0\n",
            "Episode 21 Score = 11.0\n",
            "Episode 22 Score = 12.0\n",
            "Episode 23 Score = 14.0\n",
            "Episode 24 Score = 9.0\n",
            "Episode 25 Score = 11.0\n",
            "Episode 26 Score = 11.0\n",
            "Episode 27 Score = 9.0\n",
            "Episode 28 Score = 8.0\n",
            "Episode 29 Score = 10.0\n",
            "Episode 30 Score = 12.0\n",
            "Episode 31 Score = 13.0\n",
            "Episode 32 Score = 9.0\n",
            "Episode 33 Score = 14.0\n",
            "Episode 34 Score = 11.0\n",
            "Episode 35 Score = 13.0\n",
            "Episode 36 Score = 10.0\n",
            "Episode 37 Score = 12.0\n",
            "Episode 38 Score = 8.0\n",
            "Episode 39 Score = 10.0\n",
            "Episode 40 Score = 9.0\n",
            "Episode 41 Score = 14.0\n",
            "Episode 42 Score = 13.0\n",
            "Episode 43 Score = 10.0\n",
            "Episode 44 Score = 11.0\n",
            "Episode 45 Score = 14.0\n",
            "Episode 46 Score = 9.0\n",
            "Episode 47 Score = 9.0\n",
            "Episode 48 Score = 9.0\n",
            "Episode 49 Score = 10.0\n",
            "Episode 50 Score = 10.0\n",
            "Episode 51 Score = 11.0\n",
            "Episode 52 Score = 11.0\n",
            "Episode 53 Score = 9.0\n",
            "Episode 54 Score = 10.0\n",
            "Episode 55 Score = 9.0\n",
            "Episode 56 Score = 10.0\n",
            "Episode 57 Score = 16.0\n",
            "Episode 58 Score = 10.0\n",
            "Episode 59 Score = 10.0\n",
            "Episode 60 Score = 10.0\n",
            "Episode 61 Score = 9.0\n",
            "Episode 62 Score = 13.0\n",
            "Episode 63 Score = 10.0\n",
            "Episode 64 Score = 9.0\n",
            "Episode 65 Score = 9.0\n",
            "Episode 66 Score = 10.0\n",
            "Episode 67 Score = 11.0\n",
            "Episode 68 Score = 11.0\n",
            "Episode 69 Score = 9.0\n",
            "Episode 70 Score = 11.0\n",
            "Episode 71 Score = 9.0\n",
            "Episode 72 Score = 9.0\n",
            "Episode 73 Score = 10.0\n",
            "Episode 74 Score = 12.0\n",
            "Episode 75 Score = 11.0\n",
            "Episode 76 Score = 11.0\n",
            "Episode 77 Score = 10.0\n",
            "Episode 78 Score = 10.0\n",
            "Episode 79 Score = 10.0\n",
            "Episode 80 Score = 8.0\n",
            "Episode 81 Score = 9.0\n",
            "Episode 82 Score = 10.0\n",
            "Episode 83 Score = 9.0\n",
            "Episode 84 Score = 10.0\n",
            "Episode 85 Score = 10.0\n",
            "Episode 86 Score = 9.0\n",
            "Episode 87 Score = 10.0\n",
            "Episode 88 Score = 10.0\n",
            "Episode 89 Score = 9.0\n",
            "Episode 90 Score = 10.0\n",
            "Episode 91 Score = 9.0\n",
            "Episode 92 Score = 10.0\n",
            "Episode 93 Score = 11.0\n",
            "Episode 94 Score = 9.0\n",
            "Episode 95 Score = 10.0\n",
            "Episode 96 Score = 10.0\n",
            "Episode 97 Score = 10.0\n",
            "Episode 98 Score = 9.0\n",
            "Episode 99 Score = 9.0\n",
            "Episode 100 Score = 10.0\n",
            "Episode 101 Score = 10.0\n",
            "Episode 102 Score = 9.0\n",
            "Episode 103 Score = 9.0\n",
            "Episode 104 Score = 9.0\n",
            "Episode 105 Score = 9.0\n",
            "Episode 106 Score = 9.0\n",
            "Episode 107 Score = 10.0\n",
            "Episode 108 Score = 9.0\n",
            "Episode 109 Score = 9.0\n",
            "Episode 110 Score = 10.0\n",
            "Episode 111 Score = 9.0\n",
            "Episode 112 Score = 10.0\n",
            "Episode 113 Score = 10.0\n",
            "Episode 114 Score = 9.0\n",
            "Episode 115 Score = 10.0\n",
            "Episode 116 Score = 9.0\n",
            "Episode 117 Score = 9.0\n",
            "Episode 118 Score = 9.0\n",
            "Episode 119 Score = 10.0\n",
            "Episode 120 Score = 10.0\n",
            "Episode 121 Score = 9.0\n",
            "Episode 122 Score = 9.0\n",
            "Episode 123 Score = 8.0\n",
            "Episode 124 Score = 8.0\n",
            "Episode 125 Score = 8.0\n",
            "Episode 126 Score = 9.0\n",
            "Episode 127 Score = 8.0\n",
            "Episode 128 Score = 9.0\n",
            "Episode 129 Score = 10.0\n",
            "Episode 130 Score = 10.0\n",
            "Episode 131 Score = 10.0\n",
            "Episode 132 Score = 9.0\n",
            "Episode 133 Score = 9.0\n",
            "Episode 134 Score = 9.0\n",
            "Episode 135 Score = 9.0\n",
            "Episode 136 Score = 9.0\n",
            "Episode 137 Score = 10.0\n",
            "Episode 138 Score = 10.0\n",
            "Episode 139 Score = 9.0\n",
            "Episode 140 Score = 9.0\n",
            "Episode 141 Score = 9.0\n",
            "Episode 142 Score = 8.0\n",
            "Episode 143 Score = 11.0\n",
            "Episode 144 Score = 10.0\n",
            "Episode 145 Score = 9.0\n",
            "Episode 146 Score = 9.0\n",
            "Episode 147 Score = 10.0\n",
            "Episode 148 Score = 9.0\n",
            "Episode 149 Score = 11.0\n",
            "Episode 150 Score = 10.0\n",
            "Episode 151 Score = 10.0\n",
            "Episode 152 Score = 10.0\n",
            "Episode 153 Score = 10.0\n",
            "Episode 154 Score = 10.0\n",
            "Episode 155 Score = 9.0\n",
            "Episode 156 Score = 10.0\n",
            "Episode 157 Score = 9.0\n",
            "Episode 158 Score = 10.0\n",
            "Episode 159 Score = 10.0\n",
            "Episode 160 Score = 9.0\n",
            "Episode 161 Score = 9.0\n",
            "Episode 162 Score = 9.0\n",
            "Episode 163 Score = 10.0\n",
            "Episode 164 Score = 8.0\n",
            "Episode 165 Score = 9.0\n",
            "Episode 166 Score = 10.0\n",
            "Episode 167 Score = 10.0\n",
            "Episode 168 Score = 10.0\n",
            "Episode 169 Score = 8.0\n",
            "Episode 170 Score = 9.0\n",
            "Episode 171 Score = 10.0\n",
            "Episode 172 Score = 9.0\n",
            "Episode 173 Score = 9.0\n",
            "Episode 174 Score = 9.0\n",
            "Episode 175 Score = 10.0\n",
            "Episode 176 Score = 9.0\n",
            "Episode 177 Score = 9.0\n",
            "Episode 178 Score = 9.0\n",
            "Episode 179 Score = 8.0\n",
            "Episode 180 Score = 8.0\n",
            "Episode 181 Score = 8.0\n",
            "Episode 182 Score = 10.0\n",
            "Episode 183 Score = 10.0\n",
            "Episode 184 Score = 11.0\n",
            "Episode 185 Score = 10.0\n",
            "Episode 186 Score = 9.0\n",
            "Episode 187 Score = 10.0\n",
            "Episode 188 Score = 9.0\n",
            "Episode 189 Score = 9.0\n",
            "Episode 190 Score = 10.0\n",
            "Episode 191 Score = 10.0\n",
            "Episode 192 Score = 10.0\n",
            "Episode 193 Score = 10.0\n",
            "Episode 194 Score = 9.0\n",
            "Episode 195 Score = 9.0\n",
            "Episode 196 Score = 9.0\n",
            "Episode 197 Score = 10.0\n",
            "Episode 198 Score = 10.0\n",
            "Episode 199 Score = 10.0\n"
          ],
          "name": "stdout"
        }
      ]
    },
    {
      "cell_type": "code",
      "metadata": {
        "id": "2qTyOhtPHdWQ",
        "colab_type": "code",
        "colab": {}
      },
      "source": [
        ""
      ],
      "execution_count": null,
      "outputs": []
    },
    {
      "cell_type": "markdown",
      "metadata": {
        "id": "XNbj4wmjHwPR",
        "colab_type": "text"
      },
      "source": [
        "# The Theory Behind Actor - Critic\n",
        "\n",
        "Now that we have the hang of Policy Gradients, let's combine this strategy with Deep Q Agents. We'll have one architecture to rule them all!\n",
        "\n",
        "Below is the setup for our neural networks. There are plenty of ways to go combining the two strategies. We'll be focusing on one varient called A2C, or Advantage Actor Critic. \n",
        "\n",
        "\n",
        "\n",
        "Here's the philosophy: We'll use our critic pathway to estimate the value of a state, or V(s). Given a state-action-new state transition, we can use our critic and the Bellman Equation to calculate the discounted value of the new state, or r + &gamma; * V(s').\n",
        "\n",
        "Like DQNs, this discounted value is the label the critic will train on. While that is happening, we can subtract V(s) and the discounted value of the new state to get the advantage, or A(s,a). In human terms, how much value was the action the agent took? This is what the actor, or the policy gradient portion or our network, will train on.\n",
        "\n",
        "Too long, didn't read: the critic's job is to learn how to asses the value of a state. The actor's job is to assign probabilities to it's available actions such that it increases its chance to move into a higher valued state.\n",
        "\n",
        "Below is our new `build_networks` function. Each line has been tagged with whether it comes from Deep Q Networks (`# DQN`), Policy Gradients (`# PG`), or is something new (`# New`)."
      ]
    },
    {
      "cell_type": "code",
      "metadata": {
        "id": "nqDZOkWnHxB6",
        "colab_type": "code",
        "colab": {}
      },
      "source": [
        "def build_networks(state_shape, action_size, learning_rate, critic_weight,\n",
        "                   hidden_neurons, entropy):\n",
        "    \"\"\"Creates Actor Critic Neural Networks.\n",
        "\n",
        "    Creates a two hidden-layer Policy Gradient Neural Network. The loss\n",
        "    function is altered to be a log-likelihood function weighted\n",
        "    by an action's advantage.\n",
        "\n",
        "    Args:\n",
        "        space_shape: a tuple of ints representing the observation space.\n",
        "        action_size (int): the number of possible actions.\n",
        "        learning_rate (float): the nueral network's learning rate.\n",
        "        critic_weight (float): how much to weigh the critic's training loss.\n",
        "        hidden_neurons (int): the number of neurons to use per hidden layer.\n",
        "        entropy (float): how much to enourage exploration versus exploitation.\n",
        "    \"\"\"\n",
        "    state_input = layers.Input(state_shape, name='frames')\n",
        "    advantages = layers.Input((1,), name='advantages')  # PG, A instead of G\n",
        "\n",
        "    # PG\n",
        "    actor_1 = layers.Dense(hidden_neurons, activation='relu')(state_input)\n",
        "    actor_2 = layers.Dense(hidden_neurons, activation='relu')(actor_1)\n",
        "    probabilities = layers.Dense(action_size, activation='softmax')(actor_2)\n",
        "\n",
        "    # DQN\n",
        "    critic_1 = layers.Dense(hidden_neurons, activation='relu')(state_input)\n",
        "    critic_2 = layers.Dense(hidden_neurons, activation='relu')(critic_1)\n",
        "    values = layers.Dense(1, activation='linear')(critic_2)\n",
        "\n",
        "    def actor_loss(y_true, y_pred):  # PG\n",
        "        y_pred_clipped = K.clip(y_pred, CLIP_EDGE, 1-CLIP_EDGE)\n",
        "        log_lik = y_true*K.log(y_pred_clipped)\n",
        "        entropy_loss = y_pred * K.log(K.clip(y_pred, CLIP_EDGE, 1-CLIP_EDGE))  # New\n",
        "        return K.sum(-log_lik * advantages) - (entropy * K.sum(entropy_loss))\n",
        "\n",
        "    # Train both actor and critic at the same time.\n",
        "    actor = models.Model(\n",
        "        inputs=[state_input, advantages], outputs=[probabilities, values])\n",
        "    actor.compile(\n",
        "        loss=[actor_loss, 'mean_squared_error'],  # [PG, DQN]\n",
        "        loss_weights=[1, critic_weight],  # [PG, DQN]\n",
        "        optimizer=tf.keras.optimizers.Adam(lr=learning_rate))\n",
        "\n",
        "    critic = models.Model(inputs=[state_input], outputs=[values])\n",
        "    policy = models.Model(inputs=[state_input], outputs=[probabilities])\n",
        "    return actor, critic, policy"
      ],
      "execution_count": 16,
      "outputs": []
    },
    {
      "cell_type": "markdown",
      "metadata": {
        "id": "kLJA4XTFITFW",
        "colab_type": "text"
      },
      "source": [
        "The above is one way to go about combining both of the algorithms. Here, we're combining training of both pwathways into on operation. Keras allows for the [training against multiple outputs](https://keras.io/models/model/). They can even have their own loss functions as we have above. When minimizing the loss, Keras will take the weighted sum of all the losses, with the weights provided in `loss_weights`. The `critic_weight` is now another hyperparameter for us to tune.\n",
        "\n",
        "We could even have completely separate networks for the actor and the critic, and that type of design choice is going to be problem dependent. Having shared nodes and training between the two will be more efficient to train per batch, but more complicated problems could justify keeping the two separate.\n",
        "\n",
        "The loss function we used here is also slightly different than the one for Policy Gradients. Let's take a look."
      ]
    },
    {
      "cell_type": "code",
      "metadata": {
        "id": "x_jm7qAmIPh4",
        "colab_type": "code",
        "colab": {}
      },
      "source": [
        "def actor_loss(y_true, y_pred):  # PG\n",
        "    y_pred_clipped = K.clip(y_pred, 1e-8, 1-1e-8)\n",
        "    log_lik = y_true*K.log(y_pred_clipped)\n",
        "    entropy_loss = y_pred * K.log(K.clip(y_pred, 1e-8, 1-1e-8))  # New\n",
        "    return K.sum(-log_lik * advantages) - (entropy * K.sum(entropy_loss))"
      ],
      "execution_count": 17,
      "outputs": []
    },
    {
      "cell_type": "markdown",
      "metadata": {
        "id": "I_6HmtHHIeoC",
        "colab_type": "text"
      },
      "source": [
        "We've added a new tool called [entropy](https://arxiv.org/pdf/1912.01557.pdf). We're calculating the [log-likelihood](https://en.wikipedia.org/wiki/Likelihood_function#Log-likelihood) again, but instead of comparing the probabilities of our actions versus the action that was taken, we calculating it for the probabilities of our actions against themselves.\n",
        "\n",
        "Certainly a mouthful, but the idea is to encourage exploration: if our probability prediction is very confident (or close to 1), our entropy will be close to 0. Similary, if our probability isn't confident at all (or close to 0), our entropy will again be zero. Anywhere inbetween, our entropy will be non-zero. This encourages exploration versus exploitation, as the entropy will discourage overconfident predictions.\n",
        "\n",
        "Now that the networks are out of the way, let's look at the `Memory`. We could go with Experience Replay, like with DQNs, or we could calculate TD(1) like with Policy Gradients. This time, we'll do something in between. We'll give our memory a `batch_size`. Once there are enough experiences in the buffer, we'll use all the experiences to train and then clear the buffer to start fresh.\n",
        "\n",
        "In order to speed up training, instead of recording state_prime, we'll record the value of state prime in `state_prime_values` or `next_values`. This will give us enough information to calculate the discounted values and advantages."
      ]
    },
    {
      "cell_type": "code",
      "metadata": {
        "id": "GRvAJCMzIbqs",
        "colab_type": "code",
        "colab": {}
      },
      "source": [
        "class Memory():\n",
        "    \"\"\"Sets up a memory replay for actor-critic training.\n",
        "\n",
        "    Args:\n",
        "        gamma (float): The \"discount rate\" used to assess state values.\n",
        "        batch_size (int): The number of elements to include in the buffer.\n",
        "    \"\"\"\n",
        "    def __init__(self, gamma, batch_size):\n",
        "        self.buffer = []\n",
        "        self.gamma = gamma\n",
        "        self.batch_size = batch_size\n",
        "\n",
        "    def add(self, experience):\n",
        "        \"\"\"Adds an experience into the memory buffer.\n",
        "\n",
        "        Args:\n",
        "            experience: (state, action, reward, state_prime_value, done) tuple.\n",
        "        \"\"\"\n",
        "        self.buffer.append(experience)\n",
        "\n",
        "    def check_full(self):\n",
        "        return len(self.buffer) >= self.batch_size\n",
        "\n",
        "    def sample(self):\n",
        "        \"\"\"Returns formated experiences and clears the buffer.\n",
        "\n",
        "        Returns:\n",
        "            (list): A tuple of lists with structure [\n",
        "                [states], [actions], [rewards], [state_prime_values], [dones]\n",
        "            ]\n",
        "        \"\"\"\n",
        "        # Columns have different data types, so numpy array would be awkward.\n",
        "        batch = np.array(self.buffer).T.tolist()\n",
        "        states_mb = np.array(batch[0], dtype=np.float32)\n",
        "        actions_mb = np.array(batch[1], dtype=np.int8)\n",
        "        rewards_mb = np.array(batch[2], dtype=np.float32)\n",
        "        dones_mb = np.array(batch[3], dtype=np.int8)\n",
        "        value_mb = np.squeeze(np.array(batch[4], dtype=np.float32))\n",
        "        self.buffer = []\n",
        "        return states_mb, actions_mb, rewards_mb, dones_mb, value_mb"
      ],
      "execution_count": 18,
      "outputs": []
    },
    {
      "cell_type": "markdown",
      "metadata": {
        "id": "wU_Boj21Il8X",
        "colab_type": "text"
      },
      "source": [
        "Ok, time to build out the agent! The `act` method is the exact same as it was for Policy Gradients. Nice! The `learn` method is where things get interesting. We'll find the discounted future state like we did for DQN to train our critic. We'll then subtract the value of the discount state from the value of the current state to find the advantage, which is what the actor will train on."
      ]
    },
    {
      "cell_type": "code",
      "metadata": {
        "id": "-NEYZjn4IiWz",
        "colab_type": "code",
        "colab": {}
      },
      "source": [
        "class Agent():\n",
        "    \"\"\"Sets up a reinforcement learning agent to play in a game environment.\"\"\"\n",
        "    def __init__(self, actor, critic, policy, memory, action_size):\n",
        "        \"\"\"Initializes the agent with DQN and memory sub-classes.\n",
        "\n",
        "        Args:\n",
        "            network: A neural network created from deep_q_network().\n",
        "            memory: A Memory class object.\n",
        "            epsilon_decay (float): The rate at which to decay random actions.\n",
        "            action_size (int): The number of possible actions to take.\n",
        "        \"\"\"\n",
        "        self.actor = actor\n",
        "        self.critic = critic\n",
        "        self.policy = policy\n",
        "        self.action_size = action_size\n",
        "        self.memory = memory\n",
        "\n",
        "    def act(self, state):\n",
        "        \"\"\"Selects an action for the agent to take given a game state.\n",
        "\n",
        "        Args:\n",
        "            state (list of numbers): The state of the environment to act on.\n",
        "            traning (bool): True if the agent is training.\n",
        "\n",
        "        Returns:\n",
        "            (int) The index of the action to take.\n",
        "        \"\"\"\n",
        "        # If not acting randomly, take action with highest predicted value.\n",
        "        state_batch = np.expand_dims(state, axis=0)\n",
        "        probabilities = self.policy.predict(state_batch)[0]\n",
        "        action = np.random.choice(self.action_size, p=probabilities)\n",
        "        return action\n",
        "\n",
        "    def learn(self, print_variables=False):\n",
        "        \"\"\"Trains the Deep Q Network based on stored experiences.\"\"\"\n",
        "        gamma = self.memory.gamma\n",
        "        experiences = self.memory.sample()\n",
        "        state_mb, action_mb, reward_mb, dones_mb, next_value = experiences\n",
        "\n",
        "        # One hot enocde actions\n",
        "        actions = np.zeros([len(action_mb), self.action_size])\n",
        "        actions[np.arange(len(action_mb)), action_mb] = 1\n",
        "\n",
        "        #Apply TD(0)\n",
        "        discount_mb = reward_mb + next_value * gamma * (1 - dones_mb)\n",
        "        state_values = self.critic.predict([state_mb])\n",
        "        advantages = discount_mb - np.squeeze(state_values)\n",
        "        if print_variables:\n",
        "            print(\"discount_mb\", discount_mb)\n",
        "            print(\"next_value\", next_value)\n",
        "            print(\"state_values\", state_values)\n",
        "            print(\"advantages\", advantages)\n",
        "        else:\n",
        "            self.actor.train_on_batch(\n",
        "                [state_mb, advantages], [actions, discount_mb])"
      ],
      "execution_count": 19,
      "outputs": []
    },
    {
      "cell_type": "markdown",
      "metadata": {
        "id": "YVv-F4uvItQs",
        "colab_type": "text"
      },
      "source": [
        "Run the below cell to initialize an agent, and the cell after that to see the variables used for training. Since it's early, the critic hasn't learned to estimate the values yet, and the advatanges are mostly positive because of it.\n",
        "\n",
        "Once the crtic has learned how to properly assess states, the actor will start to see negative advantages. Try playing around with the variables to help the agent see this change sooner."
      ]
    },
    {
      "cell_type": "code",
      "metadata": {
        "id": "7V5IHYTlIpib",
        "colab_type": "code",
        "colab": {}
      },
      "source": [
        "# Change me please.\n",
        "test_gamma = .9\n",
        "test_batch_size = 32\n",
        "test_learning_rate = .02\n",
        "test_hidden_neurons = 50\n",
        "test_critic_weight = 0.5\n",
        "test_entropy = 0.0001\n",
        "\n",
        "test_memory = Memory(test_gamma, test_batch_size)\n",
        "test_actor, test_critic, test_policy = build_networks(\n",
        "    space_shape, action_size,\n",
        "    test_learning_rate, test_critic_weight,\n",
        "    test_hidden_neurons, test_entropy)\n",
        "test_agent = Agent(\n",
        "    test_actor, test_critic, test_policy, test_memory, action_size)"
      ],
      "execution_count": 22,
      "outputs": []
    },
    {
      "cell_type": "code",
      "metadata": {
        "id": "zFb-_GVbIxm6",
        "colab_type": "code",
        "colab": {
          "base_uri": "https://localhost:8080/",
          "height": 803
        },
        "outputId": "f1f62fe2-3475-443c-bbef-f11f496b7577"
      },
      "source": [
        "state = env.reset()\n",
        "episode_reward = 0\n",
        "done = False\n",
        "\n",
        "while not done:\n",
        "    action = test_agent.act(state)\n",
        "    state_prime, reward, done, _ = env.step(action)\n",
        "    episode_reward += reward\n",
        "    next_value = test_agent.critic.predict([[state_prime]]) \n",
        "    test_agent.memory.add((state, action, reward, done, next_value))\n",
        "    state = state_prime\n",
        "test_agent.learn(print_variables=True)"
      ],
      "execution_count": 23,
      "outputs": [
        {
          "output_type": "stream",
          "text": [
            "WARNING:tensorflow:Model was constructed with shape (None, 4) for input Tensor(\"frames_2:0\", shape=(None, 4), dtype=float32), but it was called on an input with incompatible shape (None, 1).\n"
          ],
          "name": "stdout"
        },
        {
          "output_type": "error",
          "ename": "ValueError",
          "evalue": "ignored",
          "traceback": [
            "\u001b[0;31m---------------------------------------------------------------------------\u001b[0m",
            "\u001b[0;31mValueError\u001b[0m                                Traceback (most recent call last)",
            "\u001b[0;32m<ipython-input-23-f66c19ab0a91>\u001b[0m in \u001b[0;36m<module>\u001b[0;34m()\u001b[0m\n\u001b[1;32m      7\u001b[0m     \u001b[0mstate_prime\u001b[0m\u001b[0;34m,\u001b[0m \u001b[0mreward\u001b[0m\u001b[0;34m,\u001b[0m \u001b[0mdone\u001b[0m\u001b[0;34m,\u001b[0m \u001b[0m_\u001b[0m \u001b[0;34m=\u001b[0m \u001b[0menv\u001b[0m\u001b[0;34m.\u001b[0m\u001b[0mstep\u001b[0m\u001b[0;34m(\u001b[0m\u001b[0maction\u001b[0m\u001b[0;34m)\u001b[0m\u001b[0;34m\u001b[0m\u001b[0;34m\u001b[0m\u001b[0m\n\u001b[1;32m      8\u001b[0m     \u001b[0mepisode_reward\u001b[0m \u001b[0;34m+=\u001b[0m \u001b[0mreward\u001b[0m\u001b[0;34m\u001b[0m\u001b[0;34m\u001b[0m\u001b[0m\n\u001b[0;32m----> 9\u001b[0;31m     \u001b[0mnext_value\u001b[0m \u001b[0;34m=\u001b[0m \u001b[0mtest_agent\u001b[0m\u001b[0;34m.\u001b[0m\u001b[0mcritic\u001b[0m\u001b[0;34m.\u001b[0m\u001b[0mpredict\u001b[0m\u001b[0;34m(\u001b[0m\u001b[0;34m[\u001b[0m\u001b[0;34m[\u001b[0m\u001b[0mstate_prime\u001b[0m\u001b[0;34m]\u001b[0m\u001b[0;34m]\u001b[0m\u001b[0;34m)\u001b[0m\u001b[0;34m\u001b[0m\u001b[0;34m\u001b[0m\u001b[0m\n\u001b[0m\u001b[1;32m     10\u001b[0m     \u001b[0mtest_agent\u001b[0m\u001b[0;34m.\u001b[0m\u001b[0mmemory\u001b[0m\u001b[0;34m.\u001b[0m\u001b[0madd\u001b[0m\u001b[0;34m(\u001b[0m\u001b[0;34m(\u001b[0m\u001b[0mstate\u001b[0m\u001b[0;34m,\u001b[0m \u001b[0maction\u001b[0m\u001b[0;34m,\u001b[0m \u001b[0mreward\u001b[0m\u001b[0;34m,\u001b[0m \u001b[0mdone\u001b[0m\u001b[0;34m,\u001b[0m \u001b[0mnext_value\u001b[0m\u001b[0;34m)\u001b[0m\u001b[0;34m)\u001b[0m\u001b[0;34m\u001b[0m\u001b[0;34m\u001b[0m\u001b[0m\n\u001b[1;32m     11\u001b[0m     \u001b[0mstate\u001b[0m \u001b[0;34m=\u001b[0m \u001b[0mstate_prime\u001b[0m\u001b[0;34m\u001b[0m\u001b[0;34m\u001b[0m\u001b[0m\n",
            "\u001b[0;32m/usr/local/lib/python3.6/dist-packages/tensorflow/python/keras/engine/training.py\u001b[0m in \u001b[0;36m_method_wrapper\u001b[0;34m(self, *args, **kwargs)\u001b[0m\n\u001b[1;32m     86\u001b[0m       raise ValueError('{} is not supported in multi-worker mode.'.format(\n\u001b[1;32m     87\u001b[0m           method.__name__))\n\u001b[0;32m---> 88\u001b[0;31m     \u001b[0;32mreturn\u001b[0m \u001b[0mmethod\u001b[0m\u001b[0;34m(\u001b[0m\u001b[0mself\u001b[0m\u001b[0;34m,\u001b[0m \u001b[0;34m*\u001b[0m\u001b[0margs\u001b[0m\u001b[0;34m,\u001b[0m \u001b[0;34m**\u001b[0m\u001b[0mkwargs\u001b[0m\u001b[0;34m)\u001b[0m\u001b[0;34m\u001b[0m\u001b[0;34m\u001b[0m\u001b[0m\n\u001b[0m\u001b[1;32m     89\u001b[0m \u001b[0;34m\u001b[0m\u001b[0m\n\u001b[1;32m     90\u001b[0m   return tf_decorator.make_decorator(\n",
            "\u001b[0;32m/usr/local/lib/python3.6/dist-packages/tensorflow/python/keras/engine/training.py\u001b[0m in \u001b[0;36mpredict\u001b[0;34m(self, x, batch_size, verbose, steps, callbacks, max_queue_size, workers, use_multiprocessing)\u001b[0m\n\u001b[1;32m   1266\u001b[0m           \u001b[0;32mfor\u001b[0m \u001b[0mstep\u001b[0m \u001b[0;32min\u001b[0m \u001b[0mdata_handler\u001b[0m\u001b[0;34m.\u001b[0m\u001b[0msteps\u001b[0m\u001b[0;34m(\u001b[0m\u001b[0;34m)\u001b[0m\u001b[0;34m:\u001b[0m\u001b[0;34m\u001b[0m\u001b[0;34m\u001b[0m\u001b[0m\n\u001b[1;32m   1267\u001b[0m             \u001b[0mcallbacks\u001b[0m\u001b[0;34m.\u001b[0m\u001b[0mon_predict_batch_begin\u001b[0m\u001b[0;34m(\u001b[0m\u001b[0mstep\u001b[0m\u001b[0;34m)\u001b[0m\u001b[0;34m\u001b[0m\u001b[0;34m\u001b[0m\u001b[0m\n\u001b[0;32m-> 1268\u001b[0;31m             \u001b[0mtmp_batch_outputs\u001b[0m \u001b[0;34m=\u001b[0m \u001b[0mpredict_function\u001b[0m\u001b[0;34m(\u001b[0m\u001b[0miterator\u001b[0m\u001b[0;34m)\u001b[0m\u001b[0;34m\u001b[0m\u001b[0;34m\u001b[0m\u001b[0m\n\u001b[0m\u001b[1;32m   1269\u001b[0m             \u001b[0;31m# Catch OutOfRangeError for Datasets of unknown size.\u001b[0m\u001b[0;34m\u001b[0m\u001b[0;34m\u001b[0m\u001b[0;34m\u001b[0m\u001b[0m\n\u001b[1;32m   1270\u001b[0m             \u001b[0;31m# This blocks until the batch has finished executing.\u001b[0m\u001b[0;34m\u001b[0m\u001b[0;34m\u001b[0m\u001b[0;34m\u001b[0m\u001b[0m\n",
            "\u001b[0;32m/usr/local/lib/python3.6/dist-packages/tensorflow/python/eager/def_function.py\u001b[0m in \u001b[0;36m__call__\u001b[0;34m(self, *args, **kwds)\u001b[0m\n\u001b[1;32m    578\u001b[0m         \u001b[0mxla_context\u001b[0m\u001b[0;34m.\u001b[0m\u001b[0mExit\u001b[0m\u001b[0;34m(\u001b[0m\u001b[0;34m)\u001b[0m\u001b[0;34m\u001b[0m\u001b[0;34m\u001b[0m\u001b[0m\n\u001b[1;32m    579\u001b[0m     \u001b[0;32melse\u001b[0m\u001b[0;34m:\u001b[0m\u001b[0;34m\u001b[0m\u001b[0;34m\u001b[0m\u001b[0m\n\u001b[0;32m--> 580\u001b[0;31m       \u001b[0mresult\u001b[0m \u001b[0;34m=\u001b[0m \u001b[0mself\u001b[0m\u001b[0;34m.\u001b[0m\u001b[0m_call\u001b[0m\u001b[0;34m(\u001b[0m\u001b[0;34m*\u001b[0m\u001b[0margs\u001b[0m\u001b[0;34m,\u001b[0m \u001b[0;34m**\u001b[0m\u001b[0mkwds\u001b[0m\u001b[0;34m)\u001b[0m\u001b[0;34m\u001b[0m\u001b[0;34m\u001b[0m\u001b[0m\n\u001b[0m\u001b[1;32m    581\u001b[0m \u001b[0;34m\u001b[0m\u001b[0m\n\u001b[1;32m    582\u001b[0m     \u001b[0;32mif\u001b[0m \u001b[0mtracing_count\u001b[0m \u001b[0;34m==\u001b[0m \u001b[0mself\u001b[0m\u001b[0;34m.\u001b[0m\u001b[0m_get_tracing_count\u001b[0m\u001b[0;34m(\u001b[0m\u001b[0;34m)\u001b[0m\u001b[0;34m:\u001b[0m\u001b[0;34m\u001b[0m\u001b[0;34m\u001b[0m\u001b[0m\n",
            "\u001b[0;32m/usr/local/lib/python3.6/dist-packages/tensorflow/python/eager/def_function.py\u001b[0m in \u001b[0;36m_call\u001b[0;34m(self, *args, **kwds)\u001b[0m\n\u001b[1;32m    625\u001b[0m       \u001b[0;31m# This is the first call of __call__, so we have to initialize.\u001b[0m\u001b[0;34m\u001b[0m\u001b[0;34m\u001b[0m\u001b[0;34m\u001b[0m\u001b[0m\n\u001b[1;32m    626\u001b[0m       \u001b[0minitializers\u001b[0m \u001b[0;34m=\u001b[0m \u001b[0;34m[\u001b[0m\u001b[0;34m]\u001b[0m\u001b[0;34m\u001b[0m\u001b[0;34m\u001b[0m\u001b[0m\n\u001b[0;32m--> 627\u001b[0;31m       \u001b[0mself\u001b[0m\u001b[0;34m.\u001b[0m\u001b[0m_initialize\u001b[0m\u001b[0;34m(\u001b[0m\u001b[0margs\u001b[0m\u001b[0;34m,\u001b[0m \u001b[0mkwds\u001b[0m\u001b[0;34m,\u001b[0m \u001b[0madd_initializers_to\u001b[0m\u001b[0;34m=\u001b[0m\u001b[0minitializers\u001b[0m\u001b[0;34m)\u001b[0m\u001b[0;34m\u001b[0m\u001b[0;34m\u001b[0m\u001b[0m\n\u001b[0m\u001b[1;32m    628\u001b[0m     \u001b[0;32mfinally\u001b[0m\u001b[0;34m:\u001b[0m\u001b[0;34m\u001b[0m\u001b[0;34m\u001b[0m\u001b[0m\n\u001b[1;32m    629\u001b[0m       \u001b[0;31m# At this point we know that the initialization is complete (or less\u001b[0m\u001b[0;34m\u001b[0m\u001b[0;34m\u001b[0m\u001b[0;34m\u001b[0m\u001b[0m\n",
            "\u001b[0;32m/usr/local/lib/python3.6/dist-packages/tensorflow/python/eager/def_function.py\u001b[0m in \u001b[0;36m_initialize\u001b[0;34m(self, args, kwds, add_initializers_to)\u001b[0m\n\u001b[1;32m    504\u001b[0m     self._concrete_stateful_fn = (\n\u001b[1;32m    505\u001b[0m         self._stateful_fn._get_concrete_function_internal_garbage_collected(  # pylint: disable=protected-access\n\u001b[0;32m--> 506\u001b[0;31m             *args, **kwds))\n\u001b[0m\u001b[1;32m    507\u001b[0m \u001b[0;34m\u001b[0m\u001b[0m\n\u001b[1;32m    508\u001b[0m     \u001b[0;32mdef\u001b[0m \u001b[0minvalid_creator_scope\u001b[0m\u001b[0;34m(\u001b[0m\u001b[0;34m*\u001b[0m\u001b[0munused_args\u001b[0m\u001b[0;34m,\u001b[0m \u001b[0;34m**\u001b[0m\u001b[0munused_kwds\u001b[0m\u001b[0;34m)\u001b[0m\u001b[0;34m:\u001b[0m\u001b[0;34m\u001b[0m\u001b[0;34m\u001b[0m\u001b[0m\n",
            "\u001b[0;32m/usr/local/lib/python3.6/dist-packages/tensorflow/python/eager/function.py\u001b[0m in \u001b[0;36m_get_concrete_function_internal_garbage_collected\u001b[0;34m(self, *args, **kwargs)\u001b[0m\n\u001b[1;32m   2444\u001b[0m       \u001b[0margs\u001b[0m\u001b[0;34m,\u001b[0m \u001b[0mkwargs\u001b[0m \u001b[0;34m=\u001b[0m \u001b[0;32mNone\u001b[0m\u001b[0;34m,\u001b[0m \u001b[0;32mNone\u001b[0m\u001b[0;34m\u001b[0m\u001b[0;34m\u001b[0m\u001b[0m\n\u001b[1;32m   2445\u001b[0m     \u001b[0;32mwith\u001b[0m \u001b[0mself\u001b[0m\u001b[0;34m.\u001b[0m\u001b[0m_lock\u001b[0m\u001b[0;34m:\u001b[0m\u001b[0;34m\u001b[0m\u001b[0;34m\u001b[0m\u001b[0m\n\u001b[0;32m-> 2446\u001b[0;31m       \u001b[0mgraph_function\u001b[0m\u001b[0;34m,\u001b[0m \u001b[0m_\u001b[0m\u001b[0;34m,\u001b[0m \u001b[0m_\u001b[0m \u001b[0;34m=\u001b[0m \u001b[0mself\u001b[0m\u001b[0;34m.\u001b[0m\u001b[0m_maybe_define_function\u001b[0m\u001b[0;34m(\u001b[0m\u001b[0margs\u001b[0m\u001b[0;34m,\u001b[0m \u001b[0mkwargs\u001b[0m\u001b[0;34m)\u001b[0m\u001b[0;34m\u001b[0m\u001b[0;34m\u001b[0m\u001b[0m\n\u001b[0m\u001b[1;32m   2447\u001b[0m     \u001b[0;32mreturn\u001b[0m \u001b[0mgraph_function\u001b[0m\u001b[0;34m\u001b[0m\u001b[0;34m\u001b[0m\u001b[0m\n\u001b[1;32m   2448\u001b[0m \u001b[0;34m\u001b[0m\u001b[0m\n",
            "\u001b[0;32m/usr/local/lib/python3.6/dist-packages/tensorflow/python/eager/function.py\u001b[0m in \u001b[0;36m_maybe_define_function\u001b[0;34m(self, args, kwargs)\u001b[0m\n\u001b[1;32m   2775\u001b[0m \u001b[0;34m\u001b[0m\u001b[0m\n\u001b[1;32m   2776\u001b[0m       \u001b[0mself\u001b[0m\u001b[0;34m.\u001b[0m\u001b[0m_function_cache\u001b[0m\u001b[0;34m.\u001b[0m\u001b[0mmissed\u001b[0m\u001b[0;34m.\u001b[0m\u001b[0madd\u001b[0m\u001b[0;34m(\u001b[0m\u001b[0mcall_context_key\u001b[0m\u001b[0;34m)\u001b[0m\u001b[0;34m\u001b[0m\u001b[0;34m\u001b[0m\u001b[0m\n\u001b[0;32m-> 2777\u001b[0;31m       \u001b[0mgraph_function\u001b[0m \u001b[0;34m=\u001b[0m \u001b[0mself\u001b[0m\u001b[0;34m.\u001b[0m\u001b[0m_create_graph_function\u001b[0m\u001b[0;34m(\u001b[0m\u001b[0margs\u001b[0m\u001b[0;34m,\u001b[0m \u001b[0mkwargs\u001b[0m\u001b[0;34m)\u001b[0m\u001b[0;34m\u001b[0m\u001b[0;34m\u001b[0m\u001b[0m\n\u001b[0m\u001b[1;32m   2778\u001b[0m       \u001b[0mself\u001b[0m\u001b[0;34m.\u001b[0m\u001b[0m_function_cache\u001b[0m\u001b[0;34m.\u001b[0m\u001b[0mprimary\u001b[0m\u001b[0;34m[\u001b[0m\u001b[0mcache_key\u001b[0m\u001b[0;34m]\u001b[0m \u001b[0;34m=\u001b[0m \u001b[0mgraph_function\u001b[0m\u001b[0;34m\u001b[0m\u001b[0;34m\u001b[0m\u001b[0m\n\u001b[1;32m   2779\u001b[0m       \u001b[0;32mreturn\u001b[0m \u001b[0mgraph_function\u001b[0m\u001b[0;34m,\u001b[0m \u001b[0margs\u001b[0m\u001b[0;34m,\u001b[0m \u001b[0mkwargs\u001b[0m\u001b[0;34m\u001b[0m\u001b[0;34m\u001b[0m\u001b[0m\n",
            "\u001b[0;32m/usr/local/lib/python3.6/dist-packages/tensorflow/python/eager/function.py\u001b[0m in \u001b[0;36m_create_graph_function\u001b[0;34m(self, args, kwargs, override_flat_arg_shapes)\u001b[0m\n\u001b[1;32m   2665\u001b[0m             \u001b[0marg_names\u001b[0m\u001b[0;34m=\u001b[0m\u001b[0marg_names\u001b[0m\u001b[0;34m,\u001b[0m\u001b[0;34m\u001b[0m\u001b[0;34m\u001b[0m\u001b[0m\n\u001b[1;32m   2666\u001b[0m             \u001b[0moverride_flat_arg_shapes\u001b[0m\u001b[0;34m=\u001b[0m\u001b[0moverride_flat_arg_shapes\u001b[0m\u001b[0;34m,\u001b[0m\u001b[0;34m\u001b[0m\u001b[0;34m\u001b[0m\u001b[0m\n\u001b[0;32m-> 2667\u001b[0;31m             capture_by_value=self._capture_by_value),\n\u001b[0m\u001b[1;32m   2668\u001b[0m         \u001b[0mself\u001b[0m\u001b[0;34m.\u001b[0m\u001b[0m_function_attributes\u001b[0m\u001b[0;34m,\u001b[0m\u001b[0;34m\u001b[0m\u001b[0;34m\u001b[0m\u001b[0m\n\u001b[1;32m   2669\u001b[0m         \u001b[0;31m# Tell the ConcreteFunction to clean up its graph once it goes out of\u001b[0m\u001b[0;34m\u001b[0m\u001b[0;34m\u001b[0m\u001b[0;34m\u001b[0m\u001b[0m\n",
            "\u001b[0;32m/usr/local/lib/python3.6/dist-packages/tensorflow/python/framework/func_graph.py\u001b[0m in \u001b[0;36mfunc_graph_from_py_func\u001b[0;34m(name, python_func, args, kwargs, signature, func_graph, autograph, autograph_options, add_control_dependencies, arg_names, op_return_value, collections, capture_by_value, override_flat_arg_shapes)\u001b[0m\n\u001b[1;32m    979\u001b[0m         \u001b[0m_\u001b[0m\u001b[0;34m,\u001b[0m \u001b[0moriginal_func\u001b[0m \u001b[0;34m=\u001b[0m \u001b[0mtf_decorator\u001b[0m\u001b[0;34m.\u001b[0m\u001b[0munwrap\u001b[0m\u001b[0;34m(\u001b[0m\u001b[0mpython_func\u001b[0m\u001b[0;34m)\u001b[0m\u001b[0;34m\u001b[0m\u001b[0;34m\u001b[0m\u001b[0m\n\u001b[1;32m    980\u001b[0m \u001b[0;34m\u001b[0m\u001b[0m\n\u001b[0;32m--> 981\u001b[0;31m       \u001b[0mfunc_outputs\u001b[0m \u001b[0;34m=\u001b[0m \u001b[0mpython_func\u001b[0m\u001b[0;34m(\u001b[0m\u001b[0;34m*\u001b[0m\u001b[0mfunc_args\u001b[0m\u001b[0;34m,\u001b[0m \u001b[0;34m**\u001b[0m\u001b[0mfunc_kwargs\u001b[0m\u001b[0;34m)\u001b[0m\u001b[0;34m\u001b[0m\u001b[0;34m\u001b[0m\u001b[0m\n\u001b[0m\u001b[1;32m    982\u001b[0m \u001b[0;34m\u001b[0m\u001b[0m\n\u001b[1;32m    983\u001b[0m       \u001b[0;31m# invariant: `func_outputs` contains only Tensors, CompositeTensors,\u001b[0m\u001b[0;34m\u001b[0m\u001b[0;34m\u001b[0m\u001b[0;34m\u001b[0m\u001b[0m\n",
            "\u001b[0;32m/usr/local/lib/python3.6/dist-packages/tensorflow/python/eager/def_function.py\u001b[0m in \u001b[0;36mwrapped_fn\u001b[0;34m(*args, **kwds)\u001b[0m\n\u001b[1;32m    439\u001b[0m         \u001b[0;31m# __wrapped__ allows AutoGraph to swap in a converted function. We give\u001b[0m\u001b[0;34m\u001b[0m\u001b[0;34m\u001b[0m\u001b[0;34m\u001b[0m\u001b[0m\n\u001b[1;32m    440\u001b[0m         \u001b[0;31m# the function a weak reference to itself to avoid a reference cycle.\u001b[0m\u001b[0;34m\u001b[0m\u001b[0;34m\u001b[0m\u001b[0;34m\u001b[0m\u001b[0m\n\u001b[0;32m--> 441\u001b[0;31m         \u001b[0;32mreturn\u001b[0m \u001b[0mweak_wrapped_fn\u001b[0m\u001b[0;34m(\u001b[0m\u001b[0;34m)\u001b[0m\u001b[0;34m.\u001b[0m\u001b[0m__wrapped__\u001b[0m\u001b[0;34m(\u001b[0m\u001b[0;34m*\u001b[0m\u001b[0margs\u001b[0m\u001b[0;34m,\u001b[0m \u001b[0;34m**\u001b[0m\u001b[0mkwds\u001b[0m\u001b[0;34m)\u001b[0m\u001b[0;34m\u001b[0m\u001b[0;34m\u001b[0m\u001b[0m\n\u001b[0m\u001b[1;32m    442\u001b[0m     \u001b[0mweak_wrapped_fn\u001b[0m \u001b[0;34m=\u001b[0m \u001b[0mweakref\u001b[0m\u001b[0;34m.\u001b[0m\u001b[0mref\u001b[0m\u001b[0;34m(\u001b[0m\u001b[0mwrapped_fn\u001b[0m\u001b[0;34m)\u001b[0m\u001b[0;34m\u001b[0m\u001b[0;34m\u001b[0m\u001b[0m\n\u001b[1;32m    443\u001b[0m \u001b[0;34m\u001b[0m\u001b[0m\n",
            "\u001b[0;32m/usr/local/lib/python3.6/dist-packages/tensorflow/python/framework/func_graph.py\u001b[0m in \u001b[0;36mwrapper\u001b[0;34m(*args, **kwargs)\u001b[0m\n\u001b[1;32m    966\u001b[0m           \u001b[0;32mexcept\u001b[0m \u001b[0mException\u001b[0m \u001b[0;32mas\u001b[0m \u001b[0me\u001b[0m\u001b[0;34m:\u001b[0m  \u001b[0;31m# pylint:disable=broad-except\u001b[0m\u001b[0;34m\u001b[0m\u001b[0;34m\u001b[0m\u001b[0m\n\u001b[1;32m    967\u001b[0m             \u001b[0;32mif\u001b[0m \u001b[0mhasattr\u001b[0m\u001b[0;34m(\u001b[0m\u001b[0me\u001b[0m\u001b[0;34m,\u001b[0m \u001b[0;34m\"ag_error_metadata\"\u001b[0m\u001b[0;34m)\u001b[0m\u001b[0;34m:\u001b[0m\u001b[0;34m\u001b[0m\u001b[0;34m\u001b[0m\u001b[0m\n\u001b[0;32m--> 968\u001b[0;31m               \u001b[0;32mraise\u001b[0m \u001b[0me\u001b[0m\u001b[0;34m.\u001b[0m\u001b[0mag_error_metadata\u001b[0m\u001b[0;34m.\u001b[0m\u001b[0mto_exception\u001b[0m\u001b[0;34m(\u001b[0m\u001b[0me\u001b[0m\u001b[0;34m)\u001b[0m\u001b[0;34m\u001b[0m\u001b[0;34m\u001b[0m\u001b[0m\n\u001b[0m\u001b[1;32m    969\u001b[0m             \u001b[0;32melse\u001b[0m\u001b[0;34m:\u001b[0m\u001b[0;34m\u001b[0m\u001b[0;34m\u001b[0m\u001b[0m\n\u001b[1;32m    970\u001b[0m               \u001b[0;32mraise\u001b[0m\u001b[0;34m\u001b[0m\u001b[0;34m\u001b[0m\u001b[0m\n",
            "\u001b[0;31mValueError\u001b[0m: in user code:\n\n    /usr/local/lib/python3.6/dist-packages/tensorflow/python/keras/engine/training.py:1147 predict_function  *\n        outputs = self.distribute_strategy.run(\n    /usr/local/lib/python3.6/dist-packages/tensorflow/python/distribute/distribute_lib.py:951 run  **\n        return self._extended.call_for_each_replica(fn, args=args, kwargs=kwargs)\n    /usr/local/lib/python3.6/dist-packages/tensorflow/python/distribute/distribute_lib.py:2290 call_for_each_replica\n        return self._call_for_each_replica(fn, args, kwargs)\n    /usr/local/lib/python3.6/dist-packages/tensorflow/python/distribute/distribute_lib.py:2649 _call_for_each_replica\n        return fn(*args, **kwargs)\n    /usr/local/lib/python3.6/dist-packages/tensorflow/python/keras/engine/training.py:1122 predict_step  **\n        return self(x, training=False)\n    /usr/local/lib/python3.6/dist-packages/tensorflow/python/keras/engine/base_layer.py:927 __call__\n        outputs = call_fn(cast_inputs, *args, **kwargs)\n    /usr/local/lib/python3.6/dist-packages/tensorflow/python/keras/engine/network.py:719 call\n        convert_kwargs_to_constants=base_layer_utils.call_context().saving)\n    /usr/local/lib/python3.6/dist-packages/tensorflow/python/keras/engine/network.py:888 _run_internal_graph\n        output_tensors = layer(computed_tensors, **kwargs)\n    /usr/local/lib/python3.6/dist-packages/tensorflow/python/keras/engine/base_layer.py:886 __call__\n        self.name)\n    /usr/local/lib/python3.6/dist-packages/tensorflow/python/keras/engine/input_spec.py:216 assert_input_compatibility\n        ' but received input with shape ' + str(shape))\n\n    ValueError: Input 0 of layer dense_12 is incompatible with the layer: expected axis -1 of input shape to have value 4 but received input with shape [None, 1]\n"
          ]
        }
      ]
    },
    {
      "cell_type": "code",
      "metadata": {
        "id": "Cp_6o2PdI1Ex",
        "colab_type": "code",
        "colab": {
          "base_uri": "https://localhost:8080/",
          "height": 1000
        },
        "outputId": "99d0133a-1901-40fb-e5b3-87f83380ad80"
      },
      "source": [
        "with tf.Graph().as_default():\n",
        "    test_memory = Memory(test_gamma, test_batch_size)\n",
        "    test_actor, test_critic, test_policy = build_networks(\n",
        "        space_shape, action_size,\n",
        "        test_learning_rate, test_critic_weight,\n",
        "        test_hidden_neurons, test_entropy)\n",
        "    test_agent = Agent(\n",
        "        test_actor, test_critic, test_policy, test_memory, action_size)\n",
        "    for episode in range(200):  \n",
        "        state = env.reset()\n",
        "        episode_reward = 0\n",
        "        done = False\n",
        "\n",
        "        while not done:\n",
        "            action = test_agent.act(state)\n",
        "            state_prime, reward, done, _ = env.step(action)\n",
        "            episode_reward += reward\n",
        "            next_value = test_agent.critic.predict([[state_prime]]) \n",
        "            test_agent.memory.add((state, action, reward, done, next_value))\n",
        "\n",
        "            #if test_agent.memory.check_full():\n",
        "            #test_agent.learn(print_variables=True)\n",
        "            state = state_prime\n",
        "        test_agent.learn()\n",
        "        print(\"Episode\", episode, \"Score =\", episode_reward)"
      ],
      "execution_count": 24,
      "outputs": [
        {
          "output_type": "stream",
          "text": [
            "Episode 0 Score = 34.0\n",
            "Episode 1 Score = 19.0\n",
            "Episode 2 Score = 15.0\n",
            "Episode 3 Score = 10.0\n",
            "Episode 4 Score = 10.0\n",
            "Episode 5 Score = 12.0\n",
            "Episode 6 Score = 8.0\n",
            "Episode 7 Score = 10.0\n",
            "Episode 8 Score = 10.0\n",
            "Episode 9 Score = 9.0\n",
            "Episode 10 Score = 10.0\n",
            "Episode 11 Score = 10.0\n",
            "Episode 12 Score = 10.0\n",
            "Episode 13 Score = 9.0\n",
            "Episode 14 Score = 9.0\n",
            "Episode 15 Score = 9.0\n",
            "Episode 16 Score = 10.0\n",
            "Episode 17 Score = 9.0\n",
            "Episode 18 Score = 9.0\n",
            "Episode 19 Score = 10.0\n",
            "Episode 20 Score = 9.0\n",
            "Episode 21 Score = 9.0\n",
            "Episode 22 Score = 9.0\n",
            "Episode 23 Score = 9.0\n",
            "Episode 24 Score = 9.0\n",
            "Episode 25 Score = 8.0\n",
            "Episode 26 Score = 9.0\n",
            "Episode 27 Score = 8.0\n",
            "Episode 28 Score = 9.0\n",
            "Episode 29 Score = 8.0\n",
            "Episode 30 Score = 9.0\n",
            "Episode 31 Score = 11.0\n",
            "Episode 32 Score = 10.0\n",
            "Episode 33 Score = 9.0\n",
            "Episode 34 Score = 10.0\n",
            "Episode 35 Score = 8.0\n",
            "Episode 36 Score = 8.0\n",
            "Episode 37 Score = 10.0\n",
            "Episode 38 Score = 10.0\n",
            "Episode 39 Score = 9.0\n",
            "Episode 40 Score = 9.0\n",
            "Episode 41 Score = 8.0\n",
            "Episode 42 Score = 9.0\n",
            "Episode 43 Score = 10.0\n",
            "Episode 44 Score = 9.0\n",
            "Episode 45 Score = 10.0\n",
            "Episode 46 Score = 9.0\n",
            "Episode 47 Score = 10.0\n",
            "Episode 48 Score = 9.0\n",
            "Episode 49 Score = 9.0\n",
            "Episode 50 Score = 9.0\n",
            "Episode 51 Score = 8.0\n",
            "Episode 52 Score = 11.0\n",
            "Episode 53 Score = 8.0\n",
            "Episode 54 Score = 10.0\n",
            "Episode 55 Score = 10.0\n",
            "Episode 56 Score = 8.0\n",
            "Episode 57 Score = 9.0\n",
            "Episode 58 Score = 11.0\n",
            "Episode 59 Score = 10.0\n",
            "Episode 60 Score = 10.0\n",
            "Episode 61 Score = 15.0\n",
            "Episode 62 Score = 11.0\n",
            "Episode 63 Score = 9.0\n",
            "Episode 64 Score = 11.0\n",
            "Episode 65 Score = 9.0\n",
            "Episode 66 Score = 18.0\n",
            "Episode 67 Score = 8.0\n",
            "Episode 68 Score = 44.0\n",
            "Episode 69 Score = 18.0\n",
            "Episode 70 Score = 35.0\n",
            "Episode 71 Score = 13.0\n",
            "Episode 72 Score = 20.0\n",
            "Episode 73 Score = 16.0\n",
            "Episode 74 Score = 27.0\n",
            "Episode 75 Score = 30.0\n",
            "Episode 76 Score = 18.0\n",
            "Episode 77 Score = 31.0\n",
            "Episode 78 Score = 51.0\n",
            "Episode 79 Score = 15.0\n",
            "Episode 80 Score = 61.0\n",
            "Episode 81 Score = 100.0\n",
            "Episode 82 Score = 22.0\n",
            "Episode 83 Score = 35.0\n",
            "Episode 84 Score = 35.0\n",
            "Episode 85 Score = 32.0\n",
            "Episode 86 Score = 37.0\n",
            "Episode 87 Score = 47.0\n",
            "Episode 88 Score = 31.0\n",
            "Episode 89 Score = 44.0\n",
            "Episode 90 Score = 44.0\n",
            "Episode 91 Score = 33.0\n",
            "Episode 92 Score = 38.0\n",
            "Episode 93 Score = 37.0\n",
            "Episode 94 Score = 41.0\n",
            "Episode 95 Score = 38.0\n",
            "Episode 96 Score = 37.0\n",
            "Episode 97 Score = 37.0\n",
            "Episode 98 Score = 162.0\n",
            "Episode 99 Score = 40.0\n",
            "Episode 100 Score = 59.0\n",
            "Episode 101 Score = 33.0\n",
            "Episode 102 Score = 50.0\n",
            "Episode 103 Score = 44.0\n",
            "Episode 104 Score = 55.0\n",
            "Episode 105 Score = 49.0\n",
            "Episode 106 Score = 33.0\n",
            "Episode 107 Score = 36.0\n",
            "Episode 108 Score = 33.0\n",
            "Episode 109 Score = 39.0\n",
            "Episode 110 Score = 33.0\n",
            "Episode 111 Score = 34.0\n",
            "Episode 112 Score = 34.0\n",
            "Episode 113 Score = 39.0\n",
            "Episode 114 Score = 30.0\n",
            "Episode 115 Score = 34.0\n",
            "Episode 116 Score = 38.0\n",
            "Episode 117 Score = 26.0\n",
            "Episode 118 Score = 23.0\n",
            "Episode 119 Score = 29.0\n",
            "Episode 120 Score = 26.0\n",
            "Episode 121 Score = 31.0\n",
            "Episode 122 Score = 32.0\n",
            "Episode 123 Score = 23.0\n",
            "Episode 124 Score = 26.0\n",
            "Episode 125 Score = 26.0\n",
            "Episode 126 Score = 26.0\n",
            "Episode 127 Score = 27.0\n",
            "Episode 128 Score = 30.0\n",
            "Episode 129 Score = 24.0\n",
            "Episode 130 Score = 28.0\n",
            "Episode 131 Score = 34.0\n",
            "Episode 132 Score = 32.0\n",
            "Episode 133 Score = 34.0\n",
            "Episode 134 Score = 32.0\n",
            "Episode 135 Score = 30.0\n",
            "Episode 136 Score = 30.0\n",
            "Episode 137 Score = 24.0\n",
            "Episode 138 Score = 24.0\n",
            "Episode 139 Score = 19.0\n",
            "Episode 140 Score = 22.0\n",
            "Episode 141 Score = 21.0\n",
            "Episode 142 Score = 16.0\n",
            "Episode 143 Score = 18.0\n",
            "Episode 144 Score = 15.0\n",
            "Episode 145 Score = 20.0\n",
            "Episode 146 Score = 16.0\n",
            "Episode 147 Score = 16.0\n",
            "Episode 148 Score = 20.0\n",
            "Episode 149 Score = 18.0\n",
            "Episode 150 Score = 22.0\n",
            "Episode 151 Score = 17.0\n",
            "Episode 152 Score = 20.0\n",
            "Episode 153 Score = 20.0\n",
            "Episode 154 Score = 25.0\n",
            "Episode 155 Score = 25.0\n",
            "Episode 156 Score = 26.0\n",
            "Episode 157 Score = 24.0\n",
            "Episode 158 Score = 21.0\n",
            "Episode 159 Score = 18.0\n",
            "Episode 160 Score = 25.0\n",
            "Episode 161 Score = 33.0\n",
            "Episode 162 Score = 31.0\n",
            "Episode 163 Score = 24.0\n",
            "Episode 164 Score = 30.0\n",
            "Episode 165 Score = 21.0\n",
            "Episode 166 Score = 21.0\n",
            "Episode 167 Score = 27.0\n",
            "Episode 168 Score = 25.0\n",
            "Episode 169 Score = 25.0\n",
            "Episode 170 Score = 30.0\n",
            "Episode 171 Score = 25.0\n",
            "Episode 172 Score = 27.0\n",
            "Episode 173 Score = 21.0\n",
            "Episode 174 Score = 24.0\n",
            "Episode 175 Score = 23.0\n",
            "Episode 176 Score = 27.0\n",
            "Episode 177 Score = 21.0\n",
            "Episode 178 Score = 24.0\n",
            "Episode 179 Score = 26.0\n",
            "Episode 180 Score = 27.0\n",
            "Episode 181 Score = 30.0\n",
            "Episode 182 Score = 34.0\n",
            "Episode 183 Score = 27.0\n",
            "Episode 184 Score = 30.0\n",
            "Episode 185 Score = 36.0\n",
            "Episode 186 Score = 36.0\n",
            "Episode 187 Score = 47.0\n",
            "Episode 188 Score = 30.0\n",
            "Episode 189 Score = 58.0\n",
            "Episode 190 Score = 58.0\n",
            "Episode 191 Score = 57.0\n",
            "Episode 192 Score = 36.0\n",
            "Episode 193 Score = 40.0\n",
            "Episode 194 Score = 37.0\n",
            "Episode 195 Score = 57.0\n",
            "Episode 196 Score = 58.0\n",
            "Episode 197 Score = 36.0\n",
            "Episode 198 Score = 38.0\n",
            "Episode 199 Score = 46.0\n"
          ],
          "name": "stdout"
        }
      ]
    },
    {
      "cell_type": "code",
      "metadata": {
        "id": "SjrX0ODDJFCQ",
        "colab_type": "code",
        "colab": {}
      },
      "source": [
        ""
      ],
      "execution_count": null,
      "outputs": []
    }
  ]
}