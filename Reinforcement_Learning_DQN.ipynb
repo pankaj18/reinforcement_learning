{
  "nbformat": 4,
  "nbformat_minor": 0,
  "metadata": {
    "colab": {
      "name": "Reinforcement Learning DQN.ipynb",
      "provenance": [],
      "authorship_tag": "ABX9TyN2/Ys+E073wTTD3UB0Uq3m",
      "include_colab_link": true
    },
    "kernelspec": {
      "name": "python3",
      "display_name": "Python 3"
    }
  },
  "cells": [
    {
      "cell_type": "markdown",
      "metadata": {
        "id": "view-in-github",
        "colab_type": "text"
      },
      "source": [
        "<a href=\"https://colab.research.google.com/github/pankaj18/reinforcement_learning/blob/master/Reinforcement_Learning_DQN.ipynb\" target=\"_parent\"><img src=\"https://colab.research.google.com/assets/colab-badge.svg\" alt=\"Open In Colab\"/></a>"
      ]
    },
    {
      "cell_type": "code",
      "metadata": {
        "id": "wExwMP3xoH8z",
        "colab_type": "code",
        "colab": {}
      },
      "source": [
        ""
      ],
      "execution_count": null,
      "outputs": []
    },
    {
      "cell_type": "markdown",
      "metadata": {
        "id": "ySN2iXlfrn74",
        "colab_type": "text"
      },
      "source": [
        "# DQNs \n",
        "\n",
        "Reinforcement Learning (RL) Agents can be quite fickle. This is because the environment for an Agent is different than that of Supervised and Unsupervised algorithms.\n",
        "\n",
        "| Supervised / Unsupervised | Reinforcement Learning |\n",
        "| ----------- | ----------- |\n",
        "| Data is previously gathered | Data needs to be simulated |\n",
        "| Big Data: Many examples covering many siutations | Sparse Data: Agent trades off between exploring and exploiting | \n",
        "| The environment is assumed static | The environment may change in response to the agent |\n",
        "\n",
        "Because of this, hyperparameter tuning is even more crucial in RL as it not only impacts the training of the agent's neural network, but it also impacts how the data is gathered through simulation.\n",
        "\n",
        "## Setup\n",
        "\n",
        "Hypertuning takes some time, and in this case, it can take anywhere between **10 - 30 minutes**. If this hasn't been done already, run the cell below to kick off the training job now. We'll step through what the code is doing while our agents learn."
      ]
    },
    {
      "cell_type": "code",
      "metadata": {
        "id": "uGEK1x9lro7J",
        "colab_type": "code",
        "colab": {
          "base_uri": "https://localhost:8080/",
          "height": 782
        },
        "outputId": "2ee282cf-b561-486b-8a0a-7a1819c4a117"
      },
      "source": [
        "!pip install gym\n",
        "!apt-get install python-opengl -y\n",
        "!apt install xvfb -y"
      ],
      "execution_count": 1,
      "outputs": [
        {
          "output_type": "stream",
          "text": [
            "Requirement already satisfied: gym in /usr/local/lib/python3.6/dist-packages (0.17.2)\n",
            "Requirement already satisfied: cloudpickle<1.4.0,>=1.2.0 in /usr/local/lib/python3.6/dist-packages (from gym) (1.3.0)\n",
            "Requirement already satisfied: pyglet<=1.5.0,>=1.4.0 in /usr/local/lib/python3.6/dist-packages (from gym) (1.5.0)\n",
            "Requirement already satisfied: scipy in /usr/local/lib/python3.6/dist-packages (from gym) (1.4.1)\n",
            "Requirement already satisfied: numpy>=1.10.4 in /usr/local/lib/python3.6/dist-packages (from gym) (1.18.5)\n",
            "Requirement already satisfied: future in /usr/local/lib/python3.6/dist-packages (from pyglet<=1.5.0,>=1.4.0->gym) (0.16.0)\n",
            "Reading package lists... Done\n",
            "Building dependency tree       \n",
            "Reading state information... Done\n",
            "The following package was automatically installed and is no longer required:\n",
            "  libnvidia-common-440\n",
            "Use 'apt autoremove' to remove it.\n",
            "Suggested packages:\n",
            "  libgle3\n",
            "The following NEW packages will be installed:\n",
            "  python-opengl\n",
            "0 upgraded, 1 newly installed, 0 to remove and 33 not upgraded.\n",
            "Need to get 496 kB of archives.\n",
            "After this operation, 5,416 kB of additional disk space will be used.\n",
            "Get:1 http://archive.ubuntu.com/ubuntu bionic/universe amd64 python-opengl all 3.1.0+dfsg-1 [496 kB]\n",
            "Fetched 496 kB in 0s (4,763 kB/s)\n",
            "Selecting previously unselected package python-opengl.\n",
            "(Reading database ... 144379 files and directories currently installed.)\n",
            "Preparing to unpack .../python-opengl_3.1.0+dfsg-1_all.deb ...\n",
            "Unpacking python-opengl (3.1.0+dfsg-1) ...\n",
            "Setting up python-opengl (3.1.0+dfsg-1) ...\n",
            "Reading package lists... Done\n",
            "Building dependency tree       \n",
            "Reading state information... Done\n",
            "The following package was automatically installed and is no longer required:\n",
            "  libnvidia-common-440\n",
            "Use 'apt autoremove' to remove it.\n",
            "The following NEW packages will be installed:\n",
            "  xvfb\n",
            "0 upgraded, 1 newly installed, 0 to remove and 33 not upgraded.\n",
            "Need to get 784 kB of archives.\n",
            "After this operation, 2,266 kB of additional disk space will be used.\n",
            "Get:1 http://archive.ubuntu.com/ubuntu bionic-updates/universe amd64 xvfb amd64 2:1.19.6-1ubuntu4.4 [784 kB]\n",
            "Fetched 784 kB in 0s (6,566 kB/s)\n",
            "Selecting previously unselected package xvfb.\n",
            "(Reading database ... 146734 files and directories currently installed.)\n",
            "Preparing to unpack .../xvfb_2%3a1.19.6-1ubuntu4.4_amd64.deb ...\n",
            "Unpacking xvfb (2:1.19.6-1ubuntu4.4) ...\n",
            "Setting up xvfb (2:1.19.6-1ubuntu4.4) ...\n",
            "Processing triggers for man-db (2.8.3-2ubuntu0.1) ...\n"
          ],
          "name": "stdout"
        }
      ]
    },
    {
      "cell_type": "markdown",
      "metadata": {
        "id": "_mYrWtK7sPxs",
        "colab_type": "text"
      },
      "source": [
        "###### Note: Restart the kernel if the above libraries needed to be installed\n",
        "\n",
        "The `gym` library hosts a number of different gaming environments that our agents (and us humans) can play around in. To make an environment, we simply need to pass it what game we'd like to play with the `make` method.\n",
        "\n",
        "This will create an environment object with a number of useful methods and properties.\n",
        "* The `observation_space` parameter is the structure of observations about the environment.\n",
        "  - Each \"state\" or snapshot or our environment will follow this structure\n",
        "* The `action_space` parameter is the possible actions the agent can take\n",
        "\n",
        "So for example, with CartPole, there are 4 observation dimensions which represent `[Cart Position, Cart Velocity, Pole Angle, Pole Velocity At Tip]`. For the actions, there are 2 possible actions to take: 0 pushes the cart to the left, and 1 pushes the cart to the right. More detail is described in the game's code [here](https://github.com/openai/gym/blob/master/gym/envs/classic_control/cartpole.py)."
      ]
    },
    {
      "cell_type": "code",
      "metadata": {
        "id": "GHN5VEmQszxF",
        "colab_type": "code",
        "colab": {
          "base_uri": "https://localhost:8080/",
          "height": 85
        },
        "outputId": "7b04d465-c489-4c93-819d-e86ad6c8a820"
      },
      "source": [
        "from collections import deque\n",
        "import random\n",
        "\n",
        "import gym\n",
        "import numpy as np\n",
        "import tensorflow as tf\n",
        "from tensorflow.keras import layers, models\n",
        "\n",
        "\n",
        "env = gym.make('CartPole-v0')\n",
        "print(\"The observation space is\", env.observation_space)\n",
        "print(\"The observation dimensions are\", env.observation_space.shape)\n",
        "print(\"The action space is\", env.action_space)\n",
        "print(\"The number of possible actions is\", env.action_space.n)"
      ],
      "execution_count": 2,
      "outputs": [
        {
          "output_type": "stream",
          "text": [
            "The observation space is Box(4,)\n",
            "The observation dimensions are (4,)\n",
            "The action space is Discrete(2)\n",
            "The number of possible actions is 2\n"
          ],
          "name": "stdout"
        }
      ]
    },
    {
      "cell_type": "markdown",
      "metadata": {
        "id": "MrYjMj2juFCa",
        "colab_type": "text"
      },
      "source": [
        "* The `reset` method will restart the environment and return a starting state.\n",
        "* The `step` method takes an action, applies it to the environment and returns a new state. Each step returns a new state, the transition reward, whether the game is over or not, and game specific information. For CartPole, there is no extra info, so it returns a blank dictionary."
      ]
    },
    {
      "cell_type": "code",
      "metadata": {
        "id": "HGlNsn3rtM_o",
        "colab_type": "code",
        "colab": {
          "base_uri": "https://localhost:8080/",
          "height": 34
        },
        "outputId": "66c9a38a-5861-4821-c430-c9c6f90ba043"
      },
      "source": [
        "def print_state(state, step, reward=None):\n",
        "    format_string = 'Step {0} - Cart X: {1:.3f}, Cart V: {2:.3f}, Pole A: {3:.3f}, Pole V:{4:.3f}, Reward:{5}'\n",
        "    print(format_string.format(step, *tuple(state), reward))\n",
        "\n",
        "state = env.reset()\n",
        "step = 0\n",
        "print_state(state, step)"
      ],
      "execution_count": 3,
      "outputs": [
        {
          "output_type": "stream",
          "text": [
            "Step 0 - Cart X: 0.047, Cart V: 0.013, Pole A: -0.029, Pole V:0.025, Reward:None\n"
          ],
          "name": "stdout"
        }
      ]
    },
    {
      "cell_type": "code",
      "metadata": {
        "id": "99X8DOkMu1_Q",
        "colab_type": "code",
        "colab": {
          "base_uri": "https://localhost:8080/",
          "height": 68
        },
        "outputId": "86d96b8f-a92c-4661-e136-72f90d9b34d2"
      },
      "source": [
        "action = 0\n",
        "state_prime, reward, done, info = env.step(action)\n",
        "step += 1\n",
        "print_state(state_prime, step, reward)\n",
        "print(\"The game is over.\" if done else \"The game can continue.\")\n",
        "print(\"Info:\", info)"
      ],
      "execution_count": 4,
      "outputs": [
        {
          "output_type": "stream",
          "text": [
            "Step 1 - Cart X: 0.048, Cart V: -0.182, Pole A: -0.029, Pole V:0.308, Reward:1.0\n",
            "The game can continue.\n",
            "Info: {}\n"
          ],
          "name": "stdout"
        }
      ]
    },
    {
      "cell_type": "markdown",
      "metadata": {
        "id": "YK80XcO-wYoz",
        "colab_type": "text"
      },
      "source": [
        "Run the cell below repeatedly until the game is over, changing the action to push the cart left (0) or right (1). The game is considered \"won\" when the pole can stay up for an average of steps 195 over 100 games. How far can you get? An agent acting randomly can only survive about 10 steps."
      ]
    },
    {
      "cell_type": "code",
      "metadata": {
        "id": "nS4T4Xy2u-Vt",
        "colab_type": "code",
        "colab": {
          "base_uri": "https://localhost:8080/",
          "height": 68
        },
        "outputId": "7437ef1f-260f-4e01-a6b2-52ce10e689ad"
      },
      "source": [
        "#action = 1  # Change me: 0 Left, 1 Right\n",
        "action=np.random.randint(0,2)\n",
        "print('action-',action)\n",
        "state_prime, reward, done, info = env.step(action)\n",
        "step += 1\n",
        "\n",
        "print_state(state_prime, step, reward)\n",
        "print(\"The game is over.\" if done else \"The game can continue.\")"
      ],
      "execution_count": 26,
      "outputs": [
        {
          "output_type": "stream",
          "text": [
            "action- 0\n",
            "Step 23 - Cart X: -0.726, Cart V: -3.175, Pole A: 1.297, Pole V:6.537, Reward:0.0\n",
            "The game is over.\n"
          ],
          "name": "stdout"
        }
      ]
    },
    {
      "cell_type": "markdown",
      "metadata": {
        "id": "rqEjASZIxcUl",
        "colab_type": "text"
      },
      "source": [
        "We can make our own policy and create a loop to play through an episode (one full simulation) of the game. Below, actions are generated to alternate between pushing the cart left and right. The code is very similar to how our agents will be interacting with the game environment."
      ]
    },
    {
      "cell_type": "code",
      "metadata": {
        "id": "3PQvGsGewlEn",
        "colab_type": "code",
        "colab": {
          "base_uri": "https://localhost:8080/",
          "height": 510
        },
        "outputId": "754a3181-3616-41c0-e51b-743d3cb286b4"
      },
      "source": [
        "# [0, 1, 0, 1, 0, 1, ...]\n",
        "actions = [x % 2 for x in range(200)]\n",
        "state = env.reset()\n",
        "step = 0\n",
        "episode_reward = 0\n",
        "done = False\n",
        "\n",
        "while not done and step < len(actions):\n",
        "    action = actions[step]  # In the future, our agents will define this.\n",
        "    state_prime, reward, done, info = env.step(action)\n",
        "    episode_reward += reward\n",
        "    step += 1\n",
        "    state = state_prime\n",
        "    print_state(state, step, reward)\n",
        "\n",
        "end_statement = \"Game over!\" if done else \"Ran out of actions!\"\n",
        "print(end_statement, \"Score =\", episode_reward)"
      ],
      "execution_count": 27,
      "outputs": [
        {
          "output_type": "stream",
          "text": [
            "Step 1 - Cart X: 0.008, Cart V: -0.234, Pole A: 0.024, Pole V:0.262, Reward:1.0\n",
            "Step 2 - Cart X: 0.003, Cart V: -0.040, Pole A: 0.029, Pole V:-0.023, Reward:1.0\n",
            "Step 3 - Cart X: 0.002, Cart V: -0.235, Pole A: 0.028, Pole V:0.278, Reward:1.0\n",
            "Step 4 - Cart X: -0.002, Cart V: -0.040, Pole A: 0.034, Pole V:-0.005, Reward:1.0\n",
            "Step 5 - Cart X: -0.003, Cart V: -0.236, Pole A: 0.034, Pole V:0.298, Reward:1.0\n",
            "Step 6 - Cart X: -0.008, Cart V: -0.041, Pole A: 0.040, Pole V:0.016, Reward:1.0\n",
            "Step 7 - Cart X: -0.009, Cart V: -0.237, Pole A: 0.040, Pole V:0.321, Reward:1.0\n",
            "Step 8 - Cart X: -0.013, Cart V: -0.042, Pole A: 0.046, Pole V:0.041, Reward:1.0\n",
            "Step 9 - Cart X: -0.014, Cart V: -0.238, Pole A: 0.047, Pole V:0.348, Reward:1.0\n",
            "Step 10 - Cart X: -0.019, Cart V: -0.044, Pole A: 0.054, Pole V:0.071, Reward:1.0\n",
            "Step 11 - Cart X: -0.020, Cart V: -0.240, Pole A: 0.056, Pole V:0.380, Reward:1.0\n",
            "Step 12 - Cart X: -0.025, Cart V: -0.045, Pole A: 0.063, Pole V:0.105, Reward:1.0\n",
            "Step 13 - Cart X: -0.026, Cart V: -0.241, Pole A: 0.065, Pole V:0.417, Reward:1.0\n",
            "Step 14 - Cart X: -0.030, Cart V: -0.047, Pole A: 0.074, Pole V:0.146, Reward:1.0\n",
            "Step 15 - Cart X: -0.031, Cart V: -0.243, Pole A: 0.077, Pole V:0.461, Reward:1.0\n",
            "Step 16 - Cart X: -0.036, Cart V: -0.049, Pole A: 0.086, Pole V:0.193, Reward:1.0\n",
            "Step 17 - Cart X: -0.037, Cart V: -0.246, Pole A: 0.090, Pole V:0.512, Reward:1.0\n",
            "Step 18 - Cart X: -0.042, Cart V: -0.052, Pole A: 0.100, Pole V:0.249, Reward:1.0\n",
            "Step 19 - Cart X: -0.043, Cart V: -0.248, Pole A: 0.105, Pole V:0.571, Reward:1.0\n",
            "Step 20 - Cart X: -0.048, Cart V: -0.055, Pole A: 0.116, Pole V:0.313, Reward:1.0\n",
            "Step 21 - Cart X: -0.049, Cart V: -0.251, Pole A: 0.123, Pole V:0.640, Reward:1.0\n",
            "Step 22 - Cart X: -0.054, Cart V: -0.058, Pole A: 0.135, Pole V:0.388, Reward:1.0\n",
            "Step 23 - Cart X: -0.055, Cart V: -0.255, Pole A: 0.143, Pole V:0.721, Reward:1.0\n",
            "Step 24 - Cart X: -0.060, Cart V: -0.062, Pole A: 0.158, Pole V:0.476, Reward:1.0\n",
            "Step 25 - Cart X: -0.062, Cart V: -0.259, Pole A: 0.167, Pole V:0.814, Reward:1.0\n",
            "Step 26 - Cart X: -0.067, Cart V: -0.066, Pole A: 0.183, Pole V:0.578, Reward:1.0\n",
            "Step 27 - Cart X: -0.068, Cart V: -0.264, Pole A: 0.195, Pole V:0.923, Reward:1.0\n",
            "Step 28 - Cart X: -0.073, Cart V: -0.072, Pole A: 0.213, Pole V:0.697, Reward:1.0\n",
            "Game over! Score = 28.0\n"
          ],
          "name": "stdout"
        }
      ]
    },
    {
      "cell_type": "markdown",
      "metadata": {
        "id": "94ko4EE2x4F5",
        "colab_type": "text"
      },
      "source": [
        "It's a challenge to get to 200! We could repeatedly experiment to find the best heuristics to beat the game, or we could leave all that work to the robot. Let's create an intelligence to figure this out for us.\n",
        "\n",
        "## The Theory Behind Deep Q Networks\n",
        "\n",
        "The fundamental principle behind RL is we have two entities: the **agent** and the **environment**. The agent takes state and reward information about the envionment and chooses an action. The environment takes that action and will change to be in a new state.\n",
        "\n",
        "\n",
        "\n",
        "RL assumes that the environment follows a [Markov Decision Process (MDP)](https://en.wikipedia.org/wiki/Markov_decision_process). That means the state is dependent partially on the agent's actions, and partially on chance. MDPs can be represented by a graph, with states and actions as nodes, and rewards and path probabilities on the edges.\n",
        "\n",
        "\n",
        "\n",
        "So what would be the best path through the graph above? Or perhaps a more difficult question, what would be our expected winnings if we played optimally? The probability introduced in this problem has inspired multiple strategies over the years, but all of them boil down to the idea of discounted future rewards.\n",
        "\n",
        "Would you rather have `$100` now or `$105` a year from now? With inflation, there's no definitive answer, but each of us has a threshold that we use to determine the value of something now versus the value of something later. In psychology, this is called [Delayed Gratification](https://en.wikipedia.org/wiki/Delayed_gratification). Richard E. Bellman expressed this theory in an equation widely used in RL called the [Bellman Equation](https://en.wikipedia.org/wiki/Bellman_equation). Let's introduce some vocab to better define it.\n",
        "\n",
        "| Symbol | Name | Definition | Example |\n",
        "| - | - | - | - |\n",
        "| | agent | An entity that can act and transition between states | Us when we play CartPole |\n",
        "| s | state | The environmental parameters describing where the agent is | The position of the cart and angle of the pole |\n",
        "| a | action | What the agent can do within a state | Pushing the cart left or right |\n",
        "| t | time / step | One transition between states | One push of the cart |\n",
        "|| episode | One full simulation run | From the start of the game to game over |\n",
        "| v, V(s) | value | How much a state is worth | V(last state dropping the pole) = 0\n",
        "| r, R(s, a) | reward | Value gained or lost transitioning between states through an action | R(keeping the pole up) = 1 |\n",
        "| γ | gamma | How much to value a current state based on a future state | Coming up soon |\n",
        "| 𝜋, 𝜋(s) | policy |The recommended action to the agent based on the current state | π(in trouble) = honesty |\n",
        "\n",
        "Bellman realized this: The value of our current state should the discounted value of the next state the agent will be in plus any rewards picked up along the way, given the agent takes the best action to maximize this.\n",
        "\n",
        "Using all the symbols from above, we get:\n",
        "\n",
        "\n",
        "\n",
        "However, this is assuming we know all the states, their corresponding actions, and their rewards. If we don't know this in advance, we can explore and simulate this equation with what is called the [Q equation](https://en.wikipedia.org/wiki/Q-learning):\n",
        "\n",
        "<img style=\"background-color:white;\" src=\"https://wikimedia.org/api/rest_v1/media/math/render/svg/47fa1e5cf8cf75996a777c11c7b9445dc96d4637\">\n",
        "\n",
        "Here, the value function is replaced with the Q value, which is a function of a state and action. The learning rate is how much we want to change our old Q value with new information found during simulation. Visually, this results in a Q-table, where rows are the states, actions are the columns, and each cell is the value found through simulation.\n",
        "\n",
        "|| Meal | Snack | Wait |\n",
        "|-|-|-|-|\n",
        "| Hangry | 1 | .5 | -1 |\n",
        "| Hungry | .5 | 1 | 0 |\n",
        "| Full | -1 | -.5 | 1.5 |\n",
        "\n",
        "So this is cool and all, but how exactly does this fit in with CartPole? Here, MDPs are discrete states. CartPole has multidimensional states on a continuous scale. This is where neural networks save the day! Rather than categorize each state, we can feed state properties into our network. By having the same number of output nodes as possible actions, our network can be used to predict the value of the next state given the current state and action.\n",
        "\n",
        "## Building the Agent\n",
        "\n",
        "These networks can be configured with the same architectures and tools as other problems, such as CNNs. However, the one gotcha is that uses a specialized loss function. We'll instead be using the derivative of the Bellman Equation. Let's go ahead and define our model function as it is in trainer/model.py"
      ]
    },
    {
      "cell_type": "code",
      "metadata": {
        "id": "mgl3fvDWxoMd",
        "colab_type": "code",
        "colab": {}
      },
      "source": [
        "def deep_q_network(\n",
        "        state_shape, action_size, learning_rate, hidden_neurons):\n",
        "    \"\"\"Creates a Deep Q Network to emulate Q-learning.\n",
        "\n",
        "    Creates a two hidden-layer Deep Q Network. Similar to a typical nueral\n",
        "    network, the loss function is altered to reduce the difference between\n",
        "    predicted Q-values and Target Q-values.\n",
        "\n",
        "    Args:\n",
        "        space_shape: a tuple of ints representing the observation space.\n",
        "        action_size (int): the number of possible actions.\n",
        "        learning_rate (float): the nueral network's learning rate.\n",
        "        hidden_neurons (int): the number of neurons to use per hidden\n",
        "            layer.\n",
        "    \"\"\"\n",
        "    state_input = layers.Input(state_shape, name='frames')\n",
        "    actions_input = layers.Input((action_size,), name='mask')\n",
        "\n",
        "    hidden_1 = layers.Dense(hidden_neurons, activation='relu')(state_input)\n",
        "    hidden_2 = layers.Dense(hidden_neurons, activation='relu')(hidden_1)\n",
        "    q_values = layers.Dense(action_size)(hidden_2)\n",
        "    masked_q_values = layers.Multiply()([q_values, actions_input])\n",
        "\n",
        "    model = models.Model(\n",
        "        inputs=[state_input, actions_input], outputs=masked_q_values)\n",
        "    optimizer = tf.keras.optimizers.RMSprop(lr=learning_rate)\n",
        "    model.compile(loss='mse', optimizer=optimizer)\n",
        "    return model"
      ],
      "execution_count": 28,
      "outputs": []
    },
    {
      "cell_type": "markdown",
      "metadata": {
        "id": "08qJIrqQ1vLa",
        "colab_type": "text"
      },
      "source": [
        "Notice any other atypical aspects of this network?\n",
        "\n",
        "Here, we take in both state and actions as inputs to our network. The states are fed in as normal, but the actions are used to \"mask\" the output. This is actually used for faster training, as we'd only want to update the nodes correspnding to the action that we simulated.\n",
        "\n",
        "The Bellman Equation actually isn't in the network. That's because this is only the \"brain\" of our agent. As an intelligence, it has much more! Before we get to how exactly the agent learns, let's looks at the other aspects of its body: \"Memory\" and \"Exploration\".\n",
        "\n",
        "Just like other neural network algorithms, we need data to train on. However, this data is the result of our simulations, not something previously stored in a table. Thus, we're going to give our agent a memory where we can store state - action - new state transitions to learn on.\n",
        "\n",
        "Each time the agent takes a step in gym, we'll save `(state, action, reward, state_prime, done)` to our buffer, which is defined like so."
      ]
    },
    {
      "cell_type": "code",
      "metadata": {
        "id": "Cg1iYtta1WLU",
        "colab_type": "code",
        "colab": {}
      },
      "source": [
        "class Memory():\n",
        "    \"\"\"Sets up a memory replay buffer for a Deep Q Network.\n",
        "\n",
        "    A simple memory buffer for a DQN. This one randomly selects state\n",
        "    transitions with uniform probability, but research has gone into\n",
        "    other methods. For instance, a weight could be given to each memory\n",
        "    depending on how big of a difference there is between predicted Q values\n",
        "    and target Q values.\n",
        "\n",
        "    Args:\n",
        "        memory_size (int): How many elements to hold in the memory buffer.\n",
        "        batch_size (int): The number of elements to include in a replay batch.\n",
        "        gamma (float): The \"discount rate\" used to assess Q values.\n",
        "    \"\"\"\n",
        "    def __init__(self, memory_size, batch_size, gamma):\n",
        "        self.buffer = deque(maxlen=memory_size)\n",
        "        self.batch_size = batch_size\n",
        "        self.gamma = gamma\n",
        "\n",
        "    def add(self, experience):\n",
        "        \"\"\"Adds an experience into the memory buffer.\n",
        "\n",
        "        Args:\n",
        "            experience: a (state, action, reward, state_prime, done) tuple.\n",
        "        \"\"\"\n",
        "        self.buffer.append(experience)\n",
        "\n",
        "    def sample(self):\n",
        "        \"\"\"Uniformally selects from the replay memory buffer.\n",
        "\n",
        "        Uniformally and randomly selects experiences to train the nueral\n",
        "        network on. Transposes the experiences to allow batch math on\n",
        "        the experience components.\n",
        "\n",
        "        Returns:\n",
        "            (list): A list of lists with structure [\n",
        "                [states], [actions], [rewards], [state_primes], [dones]\n",
        "            ]\n",
        "        \"\"\"\n",
        "        buffer_size = len(self.buffer)\n",
        "        index = np.random.choice(\n",
        "            np.arange(buffer_size), size=self.batch_size, replace=False)\n",
        "\n",
        "        # Columns have different data types, so numpy array would be awkward.\n",
        "        batch = np.array([self.buffer[i] for i in index]).T.tolist()\n",
        "        states_mb = tf.convert_to_tensor(np.array(batch[0], dtype=np.float32))\n",
        "        actions_mb = np.array(batch[1], dtype=np.int8)\n",
        "        rewards_mb = np.array(batch[2], dtype=np.float32)\n",
        "        states_prime_mb = np.array(batch[3], dtype=np.float32)\n",
        "        dones_mb = batch[4]\n",
        "        return states_mb, actions_mb, rewards_mb, states_prime_mb, dones_mb"
      ],
      "execution_count": 29,
      "outputs": []
    },
    {
      "cell_type": "markdown",
      "metadata": {
        "id": "NUpUi1M72g_X",
        "colab_type": "text"
      },
      "source": [
        "Let's make a fake buffer and play around with it! We'll add the memory into our game play code to start collecting experiences."
      ]
    },
    {
      "cell_type": "code",
      "metadata": {
        "id": "lJaPK_5k2l07",
        "colab_type": "code",
        "colab": {}
      },
      "source": [
        "test_memory_size = 20\n",
        "test_batch_size = 4\n",
        "test_gamma = .9  # Unused here. For learning.\n",
        "\n",
        "test_memory = Memory(test_memory_size, test_batch_size, test_gamma)"
      ],
      "execution_count": 30,
      "outputs": []
    },
    {
      "cell_type": "code",
      "metadata": {
        "id": "nhcu3EVz2l52",
        "colab_type": "code",
        "colab": {
          "base_uri": "https://localhost:8080/",
          "height": 595
        },
        "outputId": "37c6439a-1d95-48f8-f141-58294e513e37"
      },
      "source": [
        "actions = [x % 2 for x in range(200)]\n",
        "state = env.reset()\n",
        "step = 0\n",
        "episode_reward = 0\n",
        "done = False\n",
        "\n",
        "while not done and step < len(actions):\n",
        "    action = actions[step]  # In the future, our agents will define this.\n",
        "    state_prime, reward, done, info = env.step(action)\n",
        "    episode_reward += reward\n",
        "    test_memory.add((state, action, reward, state_prime, done)) # New line here\n",
        "    step += 1\n",
        "    state = state_prime\n",
        "    print_state(state, step, reward)\n",
        "\n",
        "end_statement = \"Game over!\" if done else \"Ran out of actions!\"\n",
        "print(end_statement, \"Score =\", episode_reward)"
      ],
      "execution_count": 31,
      "outputs": [
        {
          "output_type": "stream",
          "text": [
            "Step 1 - Cart X: 0.017, Cart V: -0.201, Pole A: -0.000, Pole V:0.294, Reward:1.0\n",
            "Step 2 - Cart X: 0.013, Cart V: -0.006, Pole A: 0.006, Pole V:0.001, Reward:1.0\n",
            "Step 3 - Cart X: 0.013, Cart V: -0.201, Pole A: 0.006, Pole V:0.296, Reward:1.0\n",
            "Step 4 - Cart X: 0.009, Cart V: -0.006, Pole A: 0.012, Pole V:0.005, Reward:1.0\n",
            "Step 5 - Cart X: 0.009, Cart V: -0.201, Pole A: 0.012, Pole V:0.301, Reward:1.0\n",
            "Step 6 - Cart X: 0.005, Cart V: -0.006, Pole A: 0.018, Pole V:0.012, Reward:1.0\n",
            "Step 7 - Cart X: 0.004, Cart V: -0.202, Pole A: 0.018, Pole V:0.311, Reward:1.0\n",
            "Step 8 - Cart X: 0.000, Cart V: -0.007, Pole A: 0.024, Pole V:0.024, Reward:1.0\n",
            "Step 9 - Cart X: 0.000, Cart V: -0.202, Pole A: 0.025, Pole V:0.324, Reward:1.0\n",
            "Step 10 - Cart X: -0.004, Cart V: -0.008, Pole A: 0.031, Pole V:0.039, Reward:1.0\n",
            "Step 11 - Cart X: -0.004, Cart V: -0.203, Pole A: 0.032, Pole V:0.342, Reward:1.0\n",
            "Step 12 - Cart X: -0.008, Cart V: -0.009, Pole A: 0.039, Pole V:0.059, Reward:1.0\n",
            "Step 13 - Cart X: -0.008, Cart V: -0.204, Pole A: 0.040, Pole V:0.364, Reward:1.0\n",
            "Step 14 - Cart X: -0.012, Cart V: -0.010, Pole A: 0.047, Pole V:0.084, Reward:1.0\n",
            "Step 15 - Cart X: -0.012, Cart V: -0.205, Pole A: 0.049, Pole V:0.391, Reward:1.0\n",
            "Step 16 - Cart X: -0.017, Cart V: -0.011, Pole A: 0.057, Pole V:0.115, Reward:1.0\n",
            "Step 17 - Cart X: -0.017, Cart V: -0.207, Pole A: 0.059, Pole V:0.425, Reward:1.0\n",
            "Step 18 - Cart X: -0.021, Cart V: -0.013, Pole A: 0.068, Pole V:0.151, Reward:1.0\n",
            "Step 19 - Cart X: -0.021, Cart V: -0.209, Pole A: 0.071, Pole V:0.465, Reward:1.0\n",
            "Step 20 - Cart X: -0.025, Cart V: -0.015, Pole A: 0.080, Pole V:0.195, Reward:1.0\n",
            "Step 21 - Cart X: -0.026, Cart V: -0.211, Pole A: 0.084, Pole V:0.512, Reward:1.0\n",
            "Step 22 - Cart X: -0.030, Cart V: -0.017, Pole A: 0.094, Pole V:0.247, Reward:1.0\n",
            "Step 23 - Cart X: -0.030, Cart V: -0.213, Pole A: 0.099, Pole V:0.568, Reward:1.0\n",
            "Step 24 - Cart X: -0.034, Cart V: -0.020, Pole A: 0.110, Pole V:0.308, Reward:1.0\n",
            "Step 25 - Cart X: -0.035, Cart V: -0.216, Pole A: 0.117, Pole V:0.633, Reward:1.0\n",
            "Step 26 - Cart X: -0.039, Cart V: -0.023, Pole A: 0.129, Pole V:0.379, Reward:1.0\n",
            "Step 27 - Cart X: -0.040, Cart V: -0.220, Pole A: 0.137, Pole V:0.710, Reward:1.0\n",
            "Step 28 - Cart X: -0.044, Cart V: -0.027, Pole A: 0.151, Pole V:0.463, Reward:1.0\n",
            "Step 29 - Cart X: -0.045, Cart V: -0.224, Pole A: 0.160, Pole V:0.799, Reward:1.0\n",
            "Step 30 - Cart X: -0.049, Cart V: -0.031, Pole A: 0.176, Pole V:0.561, Reward:1.0\n",
            "Step 31 - Cart X: -0.050, Cart V: -0.228, Pole A: 0.188, Pole V:0.904, Reward:1.0\n",
            "Step 32 - Cart X: -0.054, Cart V: -0.036, Pole A: 0.206, Pole V:0.675, Reward:1.0\n",
            "Step 33 - Cart X: -0.055, Cart V: -0.233, Pole A: 0.219, Pole V:1.025, Reward:1.0\n",
            "Game over! Score = 33.0\n"
          ],
          "name": "stdout"
        }
      ]
    },
    {
      "cell_type": "markdown",
      "metadata": {
        "id": "nJcja9dc29zs",
        "colab_type": "text"
      },
      "source": [
        "Now, let's sample the memory by running the cell below multiple times. It's different each call, and that's on purpose. Just like with other neural networks, it's important to randomly sample so that our agent can learn from many different situations.\n",
        "\n",
        "The use of a memory buffer is called [Experience Replay](https://arxiv.org/pdf/1511.05952.pdf). The above technique of a uniform random sample is a quick and computationally efficient way to get the job done, but RL researchers often look into other sampling methods. For instance, maybe there's a way to weight memories based on their rarity or loss when the agent learns with it."
      ]
    },
    {
      "cell_type": "code",
      "metadata": {
        "id": "MY_nQK1o3F0T",
        "colab_type": "code",
        "colab": {
          "base_uri": "https://localhost:8080/",
          "height": 255
        },
        "outputId": "1b08bfc1-932d-4030-d1e9-25840056091e"
      },
      "source": [
        "test_memory.sample()"
      ],
      "execution_count": 32,
      "outputs": [
        {
          "output_type": "execute_result",
          "data": {
            "text/plain": [
              "(<tf.Tensor: shape=(4, 4), dtype=float32, numpy=\n",
              " array([[-0.02987042, -0.01701093,  0.09416822,  0.24672174],\n",
              "        [-0.03965587, -0.21962796,  0.13685286,  0.7097231 ],\n",
              "        [-0.02118473, -0.2087412 ,  0.07074028,  0.4645759 ],\n",
              "        [-0.04905199, -0.03093526,  0.17629407,  0.56100976]],\n",
              "       dtype=float32)>,\n",
              " array([0, 1, 1, 0], dtype=int8),\n",
              " array([1., 1., 1., 1.], dtype=float32),\n",
              " array([[-0.03021063, -0.21334283,  0.09910266,  0.56755936],\n",
              "        [-0.04404843, -0.02664005,  0.15104732,  0.4630571 ],\n",
              "        [-0.02535955, -0.01468644,  0.08003179,  0.19500206],\n",
              "        [-0.04967069, -0.228036  ,  0.18751426,  0.9036408 ]],\n",
              "       dtype=float32),\n",
              " [False, False, False, False])"
            ]
          },
          "metadata": {
            "tags": []
          },
          "execution_count": 32
        }
      ]
    },
    {
      "cell_type": "markdown",
      "metadata": {
        "id": "T__livzR3P1s",
        "colab_type": "text"
      },
      "source": [
        "But before the agent has any memories and has learned anything, how is it supposed to act? That comes down to [Exploration vs Exploitation](https://en.wikipedia.org/wiki/Multi-armed_bandit). The trouble is that in order to learn, risks with the unknown need to be made. There's no right answer, but there is a popular answer. We'll start by acting randomly, and over time, we will slowly decay our chance to act randomly.\n",
        "\n",
        "Below is a partial version of the agent. "
      ]
    },
    {
      "cell_type": "code",
      "metadata": {
        "id": "Ff-xgeBW3IWo",
        "colab_type": "code",
        "colab": {}
      },
      "source": [
        "class Partial_Agent():\n",
        "    \"\"\"Sets up a reinforcement learning agent to play in a game environment.\"\"\"\n",
        "    def __init__(self, network, memory, epsilon_decay, action_size):\n",
        "        \"\"\"Initializes the agent with DQN and memory sub-classes.\n",
        "\n",
        "        Args:\n",
        "            network: A neural network created from deep_q_network().\n",
        "            memory: A Memory class object.\n",
        "            epsilon_decay (float): The rate at which to decay random actions.\n",
        "            action_size (int): The number of possible actions to take.\n",
        "        \"\"\"\n",
        "        self.network = network\n",
        "        self.action_size = action_size\n",
        "        self.memory = memory\n",
        "        self.epsilon = 1  # The chance to take a random action.\n",
        "        self.epsilon_decay = epsilon_decay\n",
        "\n",
        "    def act(self, state, training=False):\n",
        "        \"\"\"Selects an action for the agent to take given a game state.\n",
        "\n",
        "        Args:\n",
        "            state (list of numbers): The state of the environment to act on.\n",
        "            traning (bool): True if the agent is training.\n",
        "\n",
        "        Returns:\n",
        "            (int) The index of the action to take.\n",
        "        \"\"\"\n",
        "        if training:\n",
        "            # Random actions until enough simulations to train the model.\n",
        "            if len(self.memory.buffer) >= self.memory.batch_size:\n",
        "                self.epsilon *= self.epsilon_decay\n",
        "\n",
        "            if self.epsilon > np.random.rand():\n",
        "                print(\"Exploration!\")\n",
        "                return random.randint(0, self.action_size-1)\n",
        "\n",
        "        # If not acting randomly, take action with highest predicted value.\n",
        "        print(\"Exploitation!\")\n",
        "        state_batch = np.expand_dims(state, axis=0)\n",
        "        predict_mask = np.ones((1, self.action_size,))\n",
        "        action_qs = self.network.predict([state_batch, predict_mask])\n",
        "        return np.argmax(action_qs[0])"
      ],
      "execution_count": 33,
      "outputs": []
    },
    {
      "cell_type": "markdown",
      "metadata": {
        "id": "tHoFlRFS3gSB",
        "colab_type": "text"
      },
      "source": [
        "Let's define the agent and get a starting state to see how it would act without any training."
      ]
    },
    {
      "cell_type": "code",
      "metadata": {
        "id": "857Vxdtr3fhz",
        "colab_type": "code",
        "colab": {}
      },
      "source": [
        "state = env.reset()\n",
        "\n",
        "# Define \"brain\"\n",
        "space_shape = env.observation_space.shape\n",
        "action_size = env.action_space.n\n",
        "\n",
        "# Feel free to play with these\n",
        "test_learning_rate = .2\n",
        "test_hidden_neurons = 10\n",
        "test_epsilon_decay = .95\n",
        "\n",
        "test_network = deep_q_network(\n",
        "    space_shape, action_size, test_learning_rate, test_hidden_neurons)\n",
        "\n",
        "test_agent = Partial_Agent(\n",
        "    test_network, test_memory, test_epsilon_decay, action_size)"
      ],
      "execution_count": 34,
      "outputs": []
    },
    {
      "cell_type": "markdown",
      "metadata": {
        "id": "pu5zrSdE3sS6",
        "colab_type": "text"
      },
      "source": [
        "Run the cell below multiple times. Since we're decaying the random action rate after every action, it's only a matter a time before the agent exploits more than it explores."
      ]
    },
    {
      "cell_type": "code",
      "metadata": {
        "id": "sT_aXYPx3pGh",
        "colab_type": "code",
        "colab": {
          "base_uri": "https://localhost:8080/",
          "height": 51
        },
        "outputId": "74f858e9-6d5e-4b26-e648-d6aa44e39cdf"
      },
      "source": [
        "action = test_agent.act(state, training=True)\n",
        "print(\"Push Right\" if action else \"Push Left\")"
      ],
      "execution_count": 35,
      "outputs": [
        {
          "output_type": "stream",
          "text": [
            "Exploration!\n",
            "Push Left\n"
          ],
          "name": "stdout"
        }
      ]
    },
    {
      "cell_type": "markdown",
      "metadata": {
        "id": "Lh4F-21y4Bkx",
        "colab_type": "text"
      },
      "source": [
        "Memories, a brain, and a healthy dose of curiosity. We finally have all the ingredient for our agent to learn. After all, as the Scarecrow from the Wizard of Oz said:\n",
        "\n",
        "\"Everything in life is unusual until you get accustomed to it.\"  \n",
        "~L. Frank Baum\n",
        "\n",
        "Below is the code used by our agent to learn, where the Bellman Equation at last makes an appearance. We'll run through the following steps.\n",
        "\n",
        "1. Pull a batch from memory\n",
        "2. Get the Q value (the output of the neural network) based on the memory's ending state\n",
        "    - Assume the Q value of the action with the highest Q value (test all actions)\n",
        "4. Update these Q values with the Bellman Equation\n",
        "    - `target_qs = (next_q_mb * self.memory.gamma) + reward_mb`\n",
        "    - If the state is the end of the game, set the target_q to the reward for entering the final state.\n",
        "5. Reshape the target_qs to match the networks output\n",
        "    - Only learn on the memory's corresponding action by setting all action nodes to zero besides the action node taken.\n",
        "6. Fit Target Qs as the label to our model against the memory's starting state and action as the inputs."
      ]
    },
    {
      "cell_type": "code",
      "metadata": {
        "id": "gyZUSBbh3v2k",
        "colab_type": "code",
        "colab": {}
      },
      "source": [
        "def learn(self):\n",
        "    \"\"\"Trains the Deep Q Network based on stored experiences.\"\"\"\n",
        "    batch_size = self.memory.batch_size\n",
        "    if len(self.memory.buffer) < batch_size:\n",
        "        return None\n",
        "\n",
        "    # Obtain random mini-batch from memory.\n",
        "    state_mb, action_mb, reward_mb, next_state_mb, done_mb = (\n",
        "        self.memory.sample())\n",
        "\n",
        "    # Get Q values for next_state.\n",
        "    predict_mask = np.ones(action_mb.shape + (self.action_size,))\n",
        "    next_q_mb = self.network.predict([next_state_mb, predict_mask])\n",
        "    next_q_mb = tf.math.reduce_max(next_q_mb, axis=1)\n",
        "\n",
        "    # Apply the Bellman Equation\n",
        "    target_qs = (next_q_mb * self.memory.gamma) + reward_mb\n",
        "    target_qs = tf.where(done_mb, reward_mb, target_qs)\n",
        "\n",
        "    # Match training batch to network output:\n",
        "    # target_q where action taken, 0 otherwise.\n",
        "    action_mb = tf.convert_to_tensor(action_mb, dtype=tf.int32)\n",
        "    action_hot = tf.one_hot(action_mb, self.action_size)\n",
        "    target_mask = tf.multiply(tf.expand_dims(target_qs, -1), action_hot)\n",
        "\n",
        "    return self.network.train_on_batch(\n",
        "        [state_mb, action_hot], target_mask, reset_metrics=False\n",
        "    )\n",
        "\n",
        "Partial_Agent.learn = learn\n",
        "test_agent = Partial_Agent(\n",
        "    test_network, test_memory, test_epsilon_decay, action_size)"
      ],
      "execution_count": 36,
      "outputs": []
    },
    {
      "cell_type": "markdown",
      "metadata": {
        "id": "t-hH_WB34Isn",
        "colab_type": "text"
      },
      "source": [
        "Nice! We finally have an intelligence that can walk and talk and... well ok, this intelligence is too simple to be able to do those things, but maybe it can learn to push a cart with a pole on it. Let's update our training loop to use our new agent.\n",
        "\n",
        "Run the below cell over and over up to ten times to train the agent."
      ]
    },
    {
      "cell_type": "code",
      "metadata": {
        "id": "keCsmMy44Fbi",
        "colab_type": "code",
        "colab": {
          "base_uri": "https://localhost:8080/",
          "height": 799
        },
        "outputId": "f2e57a2c-7ab6-4635-9536-250872f06501"
      },
      "source": [
        "state = env.reset()\n",
        "step = 0\n",
        "episode_reward = 0\n",
        "done = False\n",
        "\n",
        "while not done:\n",
        "    action = test_agent.act(state, training=True)\n",
        "    state_prime, reward, done, info = env.step(action)\n",
        "    episode_reward += reward\n",
        "    test_agent.memory.add((state, action, reward, state_prime, done)) # New line here\n",
        "    step += 1\n",
        "    state = state_prime\n",
        "    print_state(state, step, reward)\n",
        "\n",
        "print(test_agent.learn())\n",
        "print(\"Game over! Score =\", episode_reward)"
      ],
      "execution_count": 37,
      "outputs": [
        {
          "output_type": "stream",
          "text": [
            "Exploration!\n",
            "Step 1 - Cart X: 0.046, Cart V: -0.155, Pole A: 0.004, Pole V:0.343, Reward:1.0\n",
            "Exploitation!\n",
            "Step 2 - Cart X: 0.043, Cart V: 0.040, Pole A: 0.011, Pole V:0.051, Reward:1.0\n",
            "Exploration!\n",
            "Step 3 - Cart X: 0.044, Cart V: 0.235, Pole A: 0.012, Pole V:-0.238, Reward:1.0\n",
            "Exploration!\n",
            "Step 4 - Cart X: 0.049, Cart V: 0.430, Pole A: 0.007, Pole V:-0.527, Reward:1.0\n",
            "Exploration!\n",
            "Step 5 - Cart X: 0.057, Cart V: 0.235, Pole A: -0.003, Pole V:-0.232, Reward:1.0\n",
            "Exploration!\n",
            "Step 6 - Cart X: 0.062, Cart V: 0.040, Pole A: -0.008, Pole V:0.060, Reward:1.0\n",
            "Exploration!\n",
            "Step 7 - Cart X: 0.063, Cart V: -0.155, Pole A: -0.007, Pole V:0.350, Reward:1.0\n",
            "Exploration!\n",
            "Step 8 - Cart X: 0.060, Cart V: -0.350, Pole A: 0.000, Pole V:0.640, Reward:1.0\n",
            "Exploitation!\n",
            "Step 9 - Cart X: 0.053, Cart V: -0.155, Pole A: 0.013, Pole V:0.348, Reward:1.0\n",
            "Exploration!\n",
            "Step 10 - Cart X: 0.049, Cart V: 0.040, Pole A: 0.020, Pole V:0.059, Reward:1.0\n",
            "Exploitation!\n",
            "Step 11 - Cart X: 0.050, Cart V: 0.235, Pole A: 0.021, Pole V:-0.227, Reward:1.0\n",
            "Exploitation!\n",
            "Step 12 - Cart X: 0.055, Cart V: 0.429, Pole A: 0.017, Pole V:-0.513, Reward:1.0\n",
            "Exploitation!\n",
            "Step 13 - Cart X: 0.064, Cart V: 0.624, Pole A: 0.006, Pole V:-0.800, Reward:1.0\n",
            "Exploitation!\n",
            "Step 14 - Cart X: 0.076, Cart V: 0.819, Pole A: -0.010, Pole V:-1.091, Reward:1.0\n",
            "Exploitation!\n",
            "Step 15 - Cart X: 0.092, Cart V: 1.014, Pole A: -0.031, Pole V:-1.387, Reward:1.0\n",
            "Exploration!\n",
            "Step 16 - Cart X: 0.113, Cart V: 0.820, Pole A: -0.059, Pole V:-1.104, Reward:1.0\n",
            "Exploitation!\n",
            "Step 17 - Cart X: 0.129, Cart V: 1.016, Pole A: -0.081, Pole V:-1.415, Reward:1.0\n",
            "Exploitation!\n",
            "Step 18 - Cart X: 0.149, Cart V: 1.212, Pole A: -0.110, Pole V:-1.732, Reward:1.0\n",
            "Exploration!\n",
            "Step 19 - Cart X: 0.174, Cart V: 1.018, Pole A: -0.144, Pole V:-1.475, Reward:1.0\n",
            "Exploration!\n",
            "Step 20 - Cart X: 0.194, Cart V: 0.825, Pole A: -0.174, Pole V:-1.231, Reward:1.0\n",
            "Exploration!\n",
            "Step 21 - Cart X: 0.210, Cart V: 0.632, Pole A: -0.198, Pole V:-0.997, Reward:1.0\n",
            "Exploitation!\n",
            "Step 22 - Cart X: 0.223, Cart V: 0.829, Pole A: -0.218, Pole V:-1.345, Reward:1.0\n",
            "0.5409546494483948\n",
            "Game over! Score = 22.0\n"
          ],
          "name": "stdout"
        }
      ]
    },
    {
      "cell_type": "markdown",
      "metadata": {
        "id": "CJa5CHFx5Irn",
        "colab_type": "text"
      },
      "source": [
        "## Hypertuning\n",
        "\n",
        "Chances are, at this point, the agent is having a tough time learning. Why is that? Well, remember that hyperparameter tuning job we kicked off at the start of this notebook?\n",
        "\n",
        "The are many parameters that need adjusting with our agent. Let's recap:\n",
        "* The number of `episodes` or full runs of the game to train on\n",
        "* The neural networks `learning_rate`\n",
        "* The number of `hidden_neurons` to use in our network\n",
        "* `gamma`, or how much we want to discount the future value of states\n",
        "* How quickly we want to switch from explore to exploit with `explore_decay`\n",
        "* The size of the memory buffer, `memory_size`\n",
        "* The number of memories to pull from the buffer when training, `memory_batch_size`\n",
        "\n",
        "These all have been added as flags to pass to the model in `trainer/trainer.py`'s `_parse_arguments` method. For the most part, `trainer/trainer.py` follows the structure of the training loop that we have above, but it does have a few extra bells and whistles, like a hook into TensorBoard and video output."
      ]
    },
    {
      "cell_type": "code",
      "metadata": {
        "id": "r4WEqBkK4P4D",
        "colab_type": "code",
        "colab": {}
      },
      "source": [
        "def _parse_arguments(argv):\n",
        "    \"\"\"Parses command-line arguments.\"\"\"\n",
        "    parser = argparse.ArgumentParser()\n",
        "    parser.add_argument(\n",
        "        '--game',\n",
        "        help='Which open ai gym game to play',\n",
        "        type=str,\n",
        "        default='CartPole-v0')\n",
        "    parser.add_argument(\n",
        "        '--episodes',\n",
        "        help='The number of episodes to simulate',\n",
        "        type=int,\n",
        "        default=200)\n",
        "    parser.add_argument(\n",
        "        '--learning_rate',\n",
        "        help='Learning rate for the nueral network',\n",
        "        type=float,\n",
        "        default=0.2)\n",
        "    parser.add_argument(\n",
        "        '--hidden_neurons',\n",
        "        help='The number of nuerons to use per layer',\n",
        "        type=int,\n",
        "        default=30)\n",
        "    parser.add_argument(\n",
        "        '--gamma',\n",
        "        help='The gamma or \"discount\" factor to discount future states',\n",
        "        type=float,\n",
        "        default=0.5)\n",
        "    parser.add_argument(\n",
        "        '--explore_decay',\n",
        "        help='The rate at which to decay the probability of a random action',\n",
        "        type=float,\n",
        "        default=0.1)\n",
        "    parser.add_argument(\n",
        "        '--memory_size',\n",
        "        help='Size of the memory buffer',\n",
        "        type=int,\n",
        "        default=100000)\n",
        "    parser.add_argument(\n",
        "        '--memory_batch_size',\n",
        "        help='The amount of memories to sample from the buffer while training',\n",
        "        type=int,\n",
        "        default=8)\n",
        "    parser.add_argument(\n",
        "        '--job-dir',\n",
        "        help='Directory where to save the given model',\n",
        "        type=str,\n",
        "        default='models/')\n",
        "    parser.add_argument(\n",
        "        '--print_rate',\n",
        "        help='How often to print the score, 0 if never',\n",
        "        type=int,\n",
        "        default=0)\n",
        "    parser.add_argument(\n",
        "        '--eval_rate',\n",
        "        help=\"\"\"While training, perform an on-policy simulation and record\n",
        "        metrics to tensorboard every <record_rate> steps, 0 if never. Use\n",
        "        higher values to avoid hyperparameter tuning \"too many metrics\"\n",
        "        error\"\"\",\n",
        "        type=int,\n",
        "        default=20)\n",
        "    return parser.parse_known_args(argv)"
      ],
      "execution_count": 38,
      "outputs": []
    },
    {
      "cell_type": "markdown",
      "metadata": {
        "id": "cQtY0kMv5Tft",
        "colab_type": "text"
      },
      "source": [
        "Geez, that's a lot. And like with other machine learning methods, there's no hard and fast rule and is problem dependent. Plus, there are many more paramaters we could explore, like the number of layers, learning rate decay, and so on.\n",
        "\n",
        "We can tell Google Cloud how to explore the hyperparameter tuning space with a [config file](https://cloud.google.com/ml-engine/reference/rest/v1/projects.jobs#HyperparameterSpec). The `hyperparam.yaml` file in this directory is exactly that. It specifies which parameter to tune on (in this case, the `episode_reward`) and the range for the different flags we want to tune on.\n",
        "\n",
        "In our code, we'll add the following\n",
        "\n",
        "`import hypertune  #From cloudml-hypertune library`\n",
        "\n",
        "`hpt = hypertune.HyperTune()  # Initialized before looping through episodes`\n",
        "\n",
        "`# Placed right before the end of the training loop\n",
        "hpt.report_hyperparameter_tuning_metric(\n",
        "    hyperparameter_metric_tag='episode_reward',\n",
        "    metric_value=reward,\n",
        "    global_step=episode)`\n",
        "  \n",
        "This way, at the end of every episode, we can send information to the tuning service on how the agent is doing. The service can only handle so much information being thrown at it at once, so we'll add a `eval_rate` flag to throttle information to every `eval_rate` episodes.\n",
        "\n",
        "It is definately a worthwhile exercise to try and find the optimal set of parameters on one's on, but if life is too short, and there isn't time for that, the hyperparameter tuning job should now be complete. Head on over to [Google Cloud's AI Platform](https://console.cloud.google.com/ai-platform/jobs) to see the job labeled `dqn_on_gcp_<time_this_lab_was_started>`\n",
        "\n",
        "Click on the job name to see the results. Information comes in as each trial is complete, and the best performing trial will be listed on the top.\n",
        "\n"
      ]
    },
    {
      "cell_type": "code",
      "metadata": {
        "id": "zaTB_AEu5R5K",
        "colab_type": "code",
        "colab": {}
      },
      "source": [
        ""
      ],
      "execution_count": null,
      "outputs": []
    }
  ]
}